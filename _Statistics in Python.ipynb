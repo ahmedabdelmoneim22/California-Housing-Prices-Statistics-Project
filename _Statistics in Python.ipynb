{
 "cells": [
  {
   "cell_type": "code",
   "execution_count": 1,
   "id": "2ac50430-97ad-45cb-b445-85010344c515",
   "metadata": {},
   "outputs": [
    {
     "name": "stdout",
     "output_type": "stream",
     "text": [
      "Introduction to Statistics in Python\n"
     ]
    }
   ],
   "source": [
    "print(\"Introduction to Statistics in Python\")"
   ]
  },
  {
   "cell_type": "code",
   "execution_count": 1,
   "id": "ec71e1a9-43cc-4095-b74b-acd79d754b24",
   "metadata": {},
   "outputs": [
    {
     "data": {
      "text/plain": [
       "'\\n#What can statistics do ?\\n#What is statistics ?\\n1.The field of statistics:-The practice and study of collectiong and analyzing Data.\\n2.A summary statistic:-A fact about or summary of some Data.\\n'"
      ]
     },
     "execution_count": 1,
     "metadata": {},
     "output_type": "execute_result"
    }
   ],
   "source": [
    "\"\"\"\n",
    "#What can statistics do ?\n",
    "#What is statistics ?\n",
    "1.The field of statistics:-The practice and study of collectiong and analyzing Data.\n",
    "2.A summary statistic:-A fact about or summary of some Data.\n",
    "\"\"\""
   ]
  },
  {
   "cell_type": "code",
   "execution_count": 2,
   "id": "6683a314-3bab-4a6e-9790-ee0e66392784",
   "metadata": {},
   "outputs": [
    {
     "data": {
      "text/plain": [
       "\"\\nWhy does data type matter?\\nSummary Statistics>>>>>>>>Plots.\\nimport numpy as np\\nnp.mean(car_speeds['speed_mph'])\\n\""
      ]
     },
     "execution_count": 2,
     "metadata": {},
     "output_type": "execute_result"
    }
   ],
   "source": [
    "\"\"\"\n",
    "Why does data type matter?\n",
    "Summary Statistics>>>>>>>>Plots.\n",
    "import numpy as np\n",
    "np.mean(car_speeds['speed_mph'])\n",
    "\"\"\""
   ]
  },
  {
   "cell_type": "code",
   "execution_count": 3,
   "id": "852a568e-5949-470d-9605-dd9572a1fc63",
   "metadata": {},
   "outputs": [
    {
     "data": {
      "text/plain": [
       "\"\\nكل قيمة تكررة كام مرة\\nSummary statistics>>>>>>>>>>Plots.\\ndemographics['marriage_status'].value_counts()\\nsingle      188\\nmarried     143\\ndivorced    124\\ndtype: int64\\n\""
      ]
     },
     "execution_count": 3,
     "metadata": {},
     "output_type": "execute_result"
    }
   ],
   "source": [
    "\"\"\"\n",
    "كل قيمة تكررة كام مرة\n",
    "Summary statistics>>>>>>>>>>Plots.\n",
    "demographics['marriage_status'].value_counts()\n",
    "single      188\n",
    "married     143\n",
    "divorced    124\n",
    "dtype: int64\n",
    "\"\"\""
   ]
  },
  {
   "cell_type": "code",
   "execution_count": 4,
   "id": "7aa9d881-b597-4f4c-b62c-40bd2fa0fb0c",
   "metadata": {},
   "outputs": [
    {
     "data": {
      "text/plain": [
       "\"\\n1.Measures of center:mean = Average.\\nimport numpy as np\\nnp.mean(msleep['sleep_total'])\\n\""
      ]
     },
     "execution_count": 4,
     "metadata": {},
     "output_type": "execute_result"
    }
   ],
   "source": [
    "\"\"\"\n",
    "1.Measures of center:mean = Average.\n",
    "import numpy as np\n",
    "np.mean(msleep['sleep_total'])\n",
    "\"\"\""
   ]
  },
  {
   "cell_type": "code",
   "execution_count": 6,
   "id": "9c21af6f-94f0-48ce-966b-307af2e08747",
   "metadata": {},
   "outputs": [
    {
     "data": {
      "text/plain": [
       "\"\\n2.Measures of center:median.\\nmsleep['sleep_total'].sort_values()\\nmsleep['sleep_total'].sort_values().iloc[41]\\n\""
      ]
     },
     "execution_count": 6,
     "metadata": {},
     "output_type": "execute_result"
    }
   ],
   "source": [
    "\"\"\"\n",
    "2.Measures of center:median.\n",
    "msleep['sleep_total'].sort_values()\n",
    "msleep['sleep_total'].sort_values().iloc[41]\n",
    "\"\"\""
   ]
  },
  {
   "cell_type": "code",
   "execution_count": 7,
   "id": "e72cc852-e436-4682-80a5-23980bd7fe13",
   "metadata": {},
   "outputs": [
    {
     "data": {
      "text/plain": [
       "\"np.median(msleep['sleep_total'])\""
      ]
     },
     "execution_count": 7,
     "metadata": {},
     "output_type": "execute_result"
    }
   ],
   "source": [
    "\"np.median(msleep['sleep_total'])\""
   ]
  },
  {
   "cell_type": "code",
   "execution_count": 8,
   "id": "ff7c068e-bbfa-4d3e-a088-c9e373cd73b1",
   "metadata": {},
   "outputs": [
    {
     "data": {
      "text/plain": [
       "\"\\n>>mode: most common Value.\\n>>Measures of center:mode.\\nmsleep['sleep_total'].value_counts()\\nmsleep['vore'].value_counts()\\n\""
      ]
     },
     "execution_count": 8,
     "metadata": {},
     "output_type": "execute_result"
    }
   ],
   "source": [
    "\"\"\"\n",
    ">>mode: most common Value.\n",
    ">>Measures of center:mode.\n",
    "msleep['sleep_total'].value_counts()\n",
    "msleep['vore'].value_counts()\n",
    "\"\"\""
   ]
  },
  {
   "cell_type": "code",
   "execution_count": 9,
   "id": "1397a30e-2cb8-4e55-8290-7437f94e897b",
   "metadata": {},
   "outputs": [
    {
     "data": {
      "text/plain": [
       "\"\\nimport statistics\\nstatistics.mode(msleep['vore'])\\n\""
      ]
     },
     "execution_count": 9,
     "metadata": {},
     "output_type": "execute_result"
    }
   ],
   "source": [
    "\"\"\"\n",
    "import statistics\n",
    "statistics.mode(msleep['vore'])\n",
    "\"\"\""
   ]
  },
  {
   "cell_type": "code",
   "execution_count": 10,
   "id": "9280698a-2469-4c86-802a-87a9b9b79ce9",
   "metadata": {},
   "outputs": [
    {
     "data": {
      "text/plain": [
       "\"msleep[msleep['vore'] == 'insecti']\""
      ]
     },
     "execution_count": 10,
     "metadata": {},
     "output_type": "execute_result"
    }
   ],
   "source": [
    "\"msleep[msleep['vore'] == 'insecti']\""
   ]
  },
  {
   "cell_type": "code",
   "execution_count": 15,
   "id": "d734f965-8dad-4d0e-817b-b4cc1b6598d1",
   "metadata": {},
   "outputs": [
    {
     "data": {
      "text/plain": [
       "\"msleep[msleep['vore'] == 'insecti']['sleep_total'].agg([np.mean, np.median])\""
      ]
     },
     "execution_count": 15,
     "metadata": {},
     "output_type": "execute_result"
    }
   ],
   "source": [
    "\"msleep[msleep['vore'] == 'insecti']['sleep_total'].agg([np.mean, np.median])\""
   ]
  },
  {
   "cell_type": "code",
   "execution_count": 13,
   "id": "c0d3b30d-6bdb-4361-8828-a7c696ad4c0e",
   "metadata": {},
   "outputs": [
    {
     "data": {
      "text/plain": [
       "'Calculate mean median for sleep_total>>Column'"
      ]
     },
     "execution_count": 13,
     "metadata": {},
     "output_type": "execute_result"
    }
   ],
   "source": [
    "\"Calculate mean median for sleep_total>>Column\""
   ]
  },
  {
   "cell_type": "code",
   "execution_count": 14,
   "id": "ad68b234-601f-43ae-8559-77d18f7686ae",
   "metadata": {},
   "outputs": [
    {
     "data": {
      "text/plain": [
       "'\\nimport pandas as pd\\nimport numpy as np\\n\\n# Assuming food_consumption is already loaded as a DataFrame\\n\\n# Filter data for the US and Belgium\\nus_consumption = food_consumption[food_consumption[\\'country\\'] == \\'USA\\']\\nbelgium_consumption = food_consumption[food_consumption[\\'country\\'] == \\'Belgium\\']\\n\\n# Compute mean and median for the US\\nus_mean = us_consumption[\\'consumption\\'].mean()\\nus_median = us_consumption[\\'consumption\\'].median()\\n\\n# Compute mean and median for Belgium\\nbelgium_mean = belgium_consumption[\\'consumption\\'].mean()\\nbelgium_median = belgium_consumption[\\'consumption\\'].median()\\n\\n# Print the results\\nprint(f\"US Mean Consumption: {us_mean:.2f} kg\")\\nprint(f\"US Median Consumption: {us_median:.2f} kg\")\\nprint(f\"Belgium Mean Consumption: {belgium_mean:.2f} kg\")\\nprint(f\"Belgium Median Consumption: {belgium_median:.2f} kg\")\\n'"
      ]
     },
     "execution_count": 14,
     "metadata": {},
     "output_type": "execute_result"
    }
   ],
   "source": [
    "\"\"\"\n",
    "import pandas as pd\n",
    "import numpy as np\n",
    "\n",
    "# Assuming food_consumption is already loaded as a DataFrame\n",
    "\n",
    "# Filter data for the US and Belgium\n",
    "us_consumption = food_consumption[food_consumption['country'] == 'USA']\n",
    "belgium_consumption = food_consumption[food_consumption['country'] == 'Belgium']\n",
    "\n",
    "# Compute mean and median for the US\n",
    "us_mean = us_consumption['consumption'].mean()\n",
    "us_median = us_consumption['consumption'].median()\n",
    "\n",
    "# Compute mean and median for Belgium\n",
    "belgium_mean = belgium_consumption['consumption'].mean()\n",
    "belgium_median = belgium_consumption['consumption'].median()\n",
    "\n",
    "# Print the results\n",
    "print(f\"US Mean Consumption: {us_mean:.2f} kg\")\n",
    "print(f\"US Median Consumption: {us_median:.2f} kg\")\n",
    "print(f\"Belgium Mean Consumption: {belgium_mean:.2f} kg\")\n",
    "print(f\"Belgium Median Consumption: {belgium_median:.2f} kg\")\n",
    "\"\"\""
   ]
  },
  {
   "cell_type": "code",
   "execution_count": 16,
   "id": "e1363a74-775a-44a9-9cdd-206ddcf44fea",
   "metadata": {},
   "outputs": [
    {
     "data": {
      "text/plain": [
       "\"\\n# Import numpy as np.\\nimport numpy as np\\n\\n# Subset for Belgium and USA only.\\nbe_and_usa = food_consumption[(food_consumption['country'] == 'USA') | (food_consumption['country'] == 'Belgium')]\\n\\n# Group by country, select consumption column, and compute mean and median.\\nprint(be_and_usa.groupby('country')['consumption'].agg([np.mean, np.median]))\\n\""
      ]
     },
     "execution_count": 16,
     "metadata": {},
     "output_type": "execute_result"
    }
   ],
   "source": [
    "\"\"\"\n",
    "# Import numpy as np.\n",
    "import numpy as np\n",
    "\n",
    "# Subset for Belgium and USA only.\n",
    "be_and_usa = food_consumption[(food_consumption['country'] == 'USA') | (food_consumption['country'] == 'Belgium')]\n",
    "\n",
    "# Group by country, select consumption column, and compute mean and median.\n",
    "print(be_and_usa.groupby('country')['consumption'].agg([np.mean, np.median]))\n",
    "\"\"\""
   ]
  },
  {
   "cell_type": "code",
   "execution_count": 17,
   "id": "78db4f0b-bd79-40e3-82fd-1f4720585b52",
   "metadata": {},
   "outputs": [
    {
     "data": {
      "text/plain": [
       "\"\\nMarvelous mean and median calculation! \\nWhen you want to compare summary statistics \\nbetween groups, \\nit's much easier to use .groupby() and .agg() \\ninstead of subsetting and calling the same functions \\nmultiple times.\\n\""
      ]
     },
     "execution_count": 17,
     "metadata": {},
     "output_type": "execute_result"
    }
   ],
   "source": [
    "\"\"\"\n",
    "Marvelous mean and median calculation! \n",
    "When you want to compare summary statistics \n",
    "between groups, \n",
    "it's much easier to use .groupby() and .agg() \n",
    "instead of subsetting and calling the same functions \n",
    "multiple times.\n",
    "\"\"\""
   ]
  },
  {
   "cell_type": "code",
   "execution_count": 18,
   "id": "85b2e05a-8cae-4aea-81e8-75ddc81a31cc",
   "metadata": {},
   "outputs": [
    {
     "data": {
      "text/plain": [
       "'\\npandas is loaded as pd, numpy is loaded as np, \\nand food_consumption is available.\\n---------------------------------\\npandas is loaded as pd, numpy is loaded as np, \\nand food_consumption is Available.\\n'"
      ]
     },
     "execution_count": 18,
     "metadata": {},
     "output_type": "execute_result"
    }
   ],
   "source": [
    "\"\"\"\n",
    "pandas is loaded as pd, numpy is loaded as np, \n",
    "and food_consumption is available.\n",
    "---------------------------------\n",
    "pandas is loaded as pd, numpy is loaded as np, \n",
    "and food_consumption is Available.\n",
    "\"\"\""
   ]
  },
  {
   "cell_type": "code",
   "execution_count": 19,
   "id": "c0fd3c8a-cd9e-457f-b3ee-c3ee99e5c358",
   "metadata": {},
   "outputs": [
    {
     "data": {
      "text/plain": [
       "\"\\n# Import matplotlib.pyplot with alias plt.\\nimport matplotlib.pyplot as plt\\n\\n# Subset for food_category equals rice.\\nrice_consumption = food_consumption[food_consumption['food_category'] == 'rice']\\n# Histogram of co2_emission for rice and show plot\\nplt.hist(rice_consumption['co2_emission'], bins=10, edgecolor='black')\\nplt.xlabel('CO2 Emission (kg per person per year)')\\nplt.ylabel('Frequency')\\nplt.title('Histogram of CO2 Emission for Rice')\\nplt.show()\\n\""
      ]
     },
     "execution_count": 19,
     "metadata": {},
     "output_type": "execute_result"
    }
   ],
   "source": [
    "\"\"\"\n",
    "# Import matplotlib.pyplot with alias plt.\n",
    "import matplotlib.pyplot as plt\n",
    "\n",
    "# Subset for food_category equals rice.\n",
    "rice_consumption = food_consumption[food_consumption['food_category'] == 'rice']\n",
    "# Histogram of co2_emission for rice and show plot\n",
    "plt.hist(rice_consumption['co2_emission'], bins=10, edgecolor='black')\n",
    "plt.xlabel('CO2 Emission (kg per person per year)')\n",
    "plt.ylabel('Frequency')\n",
    "plt.title('Histogram of CO2 Emission for Rice')\n",
    "plt.show()\n",
    "\"\"\""
   ]
  },
  {
   "cell_type": "code",
   "execution_count": 20,
   "id": "bf883647-b4f3-43c7-bc20-8886e82c8ff3",
   "metadata": {},
   "outputs": [
    {
     "data": {
      "text/plain": [
       "\"\\n# Subset for food_category equals rice\\nrice_consumption = food_consumption[food_consumption['food_category'] == 'rice']\\n------------------------------------------------------\\n# Calculate mean and median of co2_emission with .agg()\\nprint(rice_consumption['co2_emission'].agg(['mean', 'median']))\\n\""
      ]
     },
     "execution_count": 20,
     "metadata": {},
     "output_type": "execute_result"
    }
   ],
   "source": [
    "\"\"\"\n",
    "# Subset for food_category equals rice\n",
    "rice_consumption = food_consumption[food_consumption['food_category'] == 'rice']\n",
    "------------------------------------------------------\n",
    "# Calculate mean and median of co2_emission with .agg()\n",
    "print(rice_consumption['co2_emission'].agg(['mean', 'median']))\n",
    "\"\"\""
   ]
  },
  {
   "cell_type": "code",
   "execution_count": 21,
   "id": "39b617ae-b7e8-4a02-b6f3-93f0955d2aa2",
   "metadata": {},
   "outputs": [
    {
     "data": {
      "text/plain": [
       "\"\\nGreat work! The mean is substantially higher than \\nthe median since it's being pulled up by the \\nhigh values over 100 kg/person/year.\\n\""
      ]
     },
     "execution_count": 21,
     "metadata": {},
     "output_type": "execute_result"
    }
   ],
   "source": [
    "\"\"\"\n",
    "Great work! The mean is substantially higher than \n",
    "the median since it's being pulled up by the \n",
    "high values over 100 kg/person/year.\n",
    "\"\"\""
   ]
  },
  {
   "cell_type": "code",
   "execution_count": 22,
   "id": "77b1200b-79ee-4cd6-bbec-6612c98b2d66",
   "metadata": {},
   "outputs": [
    {
     "data": {
      "text/plain": [
       "\"\\n>>Calculating Variance.\\n1.Subtract Mean from each Data-Point.\\nDists = msleep['sleep_total'] - np.mean(msleep['sleep_total'])\\nprint(Dists)\\n\""
      ]
     },
     "execution_count": 22,
     "metadata": {},
     "output_type": "execute_result"
    }
   ],
   "source": [
    "\"\"\"\n",
    ">>Calculating Variance.\n",
    "1.Subtract Mean from each Data-Point.\n",
    "Dists = msleep['sleep_total'] - np.mean(msleep['sleep_total'])\n",
    "print(Dists)\n",
    "\"\"\""
   ]
  },
  {
   "cell_type": "code",
   "execution_count": 23,
   "id": "21850217-ece4-4f2f-99a6-3fbee9ca4e79",
   "metadata": {},
   "outputs": [
    {
     "data": {
      "text/plain": [
       "'\\n2.Square each Distance.\\nsq_Dists = Dists ** 2\\nprint(sq_Dists)\\n'"
      ]
     },
     "execution_count": 23,
     "metadata": {},
     "output_type": "execute_result"
    }
   ],
   "source": [
    "\"\"\"\n",
    "2.Square each Distance.\n",
    "sq_Dists = Dists ** 2\n",
    "print(sq_Dists)\n",
    "\"\"\""
   ]
  },
  {
   "cell_type": "code",
   "execution_count": 24,
   "id": "74dbfcdf-70d4-469a-bfde-49d6130bf8ac",
   "metadata": {},
   "outputs": [
    {
     "data": {
      "text/plain": [
       "'\\n3.Sum Squared Distances.\\nsum_sq_dists = np.sum(sq_Dists)\\nprint(sum_sq_dists)\\n'"
      ]
     },
     "execution_count": 24,
     "metadata": {},
     "output_type": "execute_result"
    }
   ],
   "source": [
    "\"\"\"\n",
    "3.Sum Squared Distances.\n",
    "sum_sq_dists = np.sum(sq_Dists)\n",
    "print(sum_sq_dists)\n",
    "\"\"\""
   ]
  },
  {
   "cell_type": "code",
   "execution_count": 25,
   "id": "b390372b-ef58-4252-9b7f-5ff61b26af41",
   "metadata": {},
   "outputs": [
    {
     "data": {
      "text/plain": [
       "'\\n4.Divide by number of data points - 1.\\nvariance = sum_sq_dists / (83 - 1).\\nprint(variance)\\n'"
      ]
     },
     "execution_count": 25,
     "metadata": {},
     "output_type": "execute_result"
    }
   ],
   "source": [
    "\"\"\"\n",
    "4.Divide by number of data points - 1.\n",
    "variance = sum_sq_dists / (83 - 1).\n",
    "print(variance)\n",
    "\"\"\""
   ]
  },
  {
   "cell_type": "code",
   "execution_count": 26,
   "id": "e280d5ab-62b9-4b1b-bf9a-a2e5493de70e",
   "metadata": {},
   "outputs": [
    {
     "data": {
      "text/plain": [
       "\"\\n>>Calculate variance one step>>np.var;\\n>>np.var(msleep['sleep_total'],ddof=1)\\n\""
      ]
     },
     "execution_count": 26,
     "metadata": {},
     "output_type": "execute_result"
    }
   ],
   "source": [
    "\"\"\"\n",
    ">>Calculate variance one step>>np.var;\n",
    ">>np.var(msleep['sleep_total'],ddof=1)\n",
    "\"\"\""
   ]
  },
  {
   "cell_type": "code",
   "execution_count": 28,
   "id": "e2c37c56-2d92-4f7d-9a9c-8824c46069de",
   "metadata": {},
   "outputs": [
    {
     "data": {
      "text/plain": [
       "\"np.var(msleep['sleep_total'])\""
      ]
     },
     "execution_count": 28,
     "metadata": {},
     "output_type": "execute_result"
    }
   ],
   "source": [
    "\"np.var(msleep['sleep_total'])\""
   ]
  },
  {
   "cell_type": "code",
   "execution_count": 29,
   "id": "1d317fbf-9eab-454e-bf00-d5bf3d629804",
   "metadata": {},
   "outputs": [
    {
     "data": {
      "text/plain": [
       "\"\\n>>Standard-deviation.\\nnp.sqrt(np.var(msleep['sleep_total'], ddof = 1))\\n\""
      ]
     },
     "execution_count": 29,
     "metadata": {},
     "output_type": "execute_result"
    }
   ],
   "source": [
    "\"\"\"\n",
    ">>Standard-deviation.\n",
    "np.sqrt(np.var(msleep['sleep_total'], ddof = 1))\n",
    "\"\"\""
   ]
  },
  {
   "cell_type": "code",
   "execution_count": 30,
   "id": "bc19a60c-8a32-4ae4-9b01-06a3259fa29e",
   "metadata": {},
   "outputs": [
    {
     "data": {
      "text/plain": [
       "\"\\nnp.std(msleep['sleep_total'], ddof = 1)\\n\""
      ]
     },
     "execution_count": 30,
     "metadata": {},
     "output_type": "execute_result"
    }
   ],
   "source": [
    "\"\"\"\n",
    "np.std(msleep['sleep_total'], ddof = 1)\n",
    "\"\"\""
   ]
  },
  {
   "cell_type": "code",
   "execution_count": 31,
   "id": "52283e96-0f5d-4bdd-86a7-612661b6ab2d",
   "metadata": {},
   "outputs": [
    {
     "data": {
      "text/plain": [
       "\"\\nMean absolute deviation.\\ndists = msleep['sleep_total'] - mean(msleep$sleep_total)\\nnp.mean(np.abs(dists))\\n\""
      ]
     },
     "execution_count": 31,
     "metadata": {},
     "output_type": "execute_result"
    }
   ],
   "source": [
    "\"\"\"\n",
    "Mean absolute deviation.\n",
    "dists = msleep['sleep_total'] - mean(msleep$sleep_total)\n",
    "np.mean(np.abs(dists))\n",
    "\"\"\""
   ]
  },
  {
   "cell_type": "code",
   "execution_count": 33,
   "id": "54fe230f-2dff-49ea-9794-f900dfe7bfcc",
   "metadata": {},
   "outputs": [
    {
     "data": {
      "text/plain": [
       "\"\\nQuantiles.\\nnp.quantile(msleep['sleep_total'],0.5)\\n0.5 quantile = median.\\n\""
      ]
     },
     "execution_count": 33,
     "metadata": {},
     "output_type": "execute_result"
    }
   ],
   "source": [
    "\"\"\"\n",
    "Quantiles.\n",
    "np.quantile(msleep['sleep_total'],0.5)\n",
    "0.5 quantile = median.\n",
    "\"\"\""
   ]
  },
  {
   "cell_type": "code",
   "execution_count": 34,
   "id": "9936efd4-ae43-4673-8e4a-e77e00cd510c",
   "metadata": {},
   "outputs": [
    {
     "data": {
      "text/plain": [
       "\"\\nnp.quantile(msleep['sleep_total'],[0,0.25,0.5,0.75,1])\\n\""
      ]
     },
     "execution_count": 34,
     "metadata": {},
     "output_type": "execute_result"
    }
   ],
   "source": [
    "\"\"\"\n",
    "np.quantile(msleep['sleep_total'],[0,0.25,0.5,0.75,1])\n",
    "\"\"\""
   ]
  },
  {
   "cell_type": "code",
   "execution_count": 35,
   "id": "b911890e-ecd4-4a75-8aaa-a6e4c474b37e",
   "metadata": {},
   "outputs": [
    {
     "data": {
      "text/plain": [
       "\"\\nBoxplots use quartiles.\\nimport matplotlib.pyplot as plt\\nplt.boxplot(msleep['sleep_total'])\\nplt.show()\\n\""
      ]
     },
     "execution_count": 35,
     "metadata": {},
     "output_type": "execute_result"
    }
   ],
   "source": [
    "\"\"\"\n",
    "Boxplots use quartiles.\n",
    "import matplotlib.pyplot as plt\n",
    "plt.boxplot(msleep['sleep_total'])\n",
    "plt.show()\n",
    "\"\"\""
   ]
  },
  {
   "cell_type": "code",
   "execution_count": 36,
   "id": "1477c224-58b2-466d-8412-fa97ffd75fd9",
   "metadata": {},
   "outputs": [
    {
     "data": {
      "text/plain": [
       "\"\\nnp.quantile(msleep['sleep_total'], [0,0.2,0.4,0.6,0.8,1])\\n\""
      ]
     },
     "execution_count": 36,
     "metadata": {},
     "output_type": "execute_result"
    }
   ],
   "source": [
    "\"\"\"\n",
    "np.quantile(msleep['sleep_total'], [0,0.2,0.4,0.6,0.8,1])\n",
    "\"\"\""
   ]
  },
  {
   "cell_type": "code",
   "execution_count": 37,
   "id": "11b84c6e-11bf-4993-bd10-71adc0d60956",
   "metadata": {},
   "outputs": [
    {
     "data": {
      "text/plain": [
       "'np.Linspace(start,stop,num)'"
      ]
     },
     "execution_count": 37,
     "metadata": {},
     "output_type": "execute_result"
    }
   ],
   "source": [
    "\"np.Linspace(start,stop,num)\""
   ]
  },
  {
   "cell_type": "code",
   "execution_count": 38,
   "id": "87aa4e5c-3722-4231-bae8-ebfc7924d405",
   "metadata": {},
   "outputs": [
    {
     "data": {
      "text/plain": [
       "\"np.quantile(msleep['sleep_total'], np.linespace(0, 1, 5))\""
      ]
     },
     "execution_count": 38,
     "metadata": {},
     "output_type": "execute_result"
    }
   ],
   "source": [
    "\"np.quantile(msleep['sleep_total'], np.linespace(0, 1, 5))\""
   ]
  },
  {
   "cell_type": "code",
   "execution_count": 39,
   "id": "c82fc6b4-566b-4995-9879-0c37f284fcc7",
   "metadata": {},
   "outputs": [
    {
     "data": {
      "text/plain": [
       "\"\\ninterquartile range (IQR).\\n>>from scipy.stats import iqr\\n>>iqr(msleep['sleep_total'])\\n\""
      ]
     },
     "execution_count": 39,
     "metadata": {},
     "output_type": "execute_result"
    }
   ],
   "source": [
    "\"\"\"\n",
    "interquartile range (IQR).\n",
    ">>from scipy.stats import iqr\n",
    ">>iqr(msleep['sleep_total'])\n",
    "\"\"\""
   ]
  },
  {
   "cell_type": "code",
   "execution_count": 41,
   "id": "57bc8048-148d-4106-96d4-b9a32d60ffa6",
   "metadata": {},
   "outputs": [
    {
     "data": {
      "text/plain": [
       "\"\\nfrom scipy.stats import iqr\\niqr = iqr(msleep['bodywt'])\\n>>lower_threshold;\\n>>upper_threshold;\\n\""
      ]
     },
     "execution_count": 41,
     "metadata": {},
     "output_type": "execute_result"
    }
   ],
   "source": [
    "\"\"\"\n",
    "from scipy.stats import iqr\n",
    "iqr = iqr(msleep['bodywt'])\n",
    ">>lower_threshold;\n",
    ">>upper_threshold;\n",
    "\"\"\""
   ]
  },
  {
   "cell_type": "code",
   "execution_count": 42,
   "id": "6f81522e-e30f-4b8e-b51d-49711e4bade8",
   "metadata": {},
   "outputs": [
    {
     "data": {
      "text/plain": [
       "\"\\n>>Print>>All in one go;\\n>>msleep['bodywt'].describe()\\n\""
      ]
     },
     "execution_count": 42,
     "metadata": {},
     "output_type": "execute_result"
    }
   ],
   "source": [
    "\"\"\"\n",
    ">>Print>>All in one go;\n",
    ">>msleep['bodywt'].describe()\n",
    "\"\"\""
   ]
  },
  {
   "cell_type": "code",
   "execution_count": 43,
   "id": "3acafe72-be03-413f-9883-ba5de004bcc7",
   "metadata": {},
   "outputs": [
    {
     "data": {
      "text/plain": [
       "\"\\nimport numpy as np\\n# Calculate the quartiles of co2_emission.\\nprint(np.quantile(food_consumption['co2_emission'], [0, 0.25, 0.5, 0.75, 1]))\\n\""
      ]
     },
     "execution_count": 43,
     "metadata": {},
     "output_type": "execute_result"
    }
   ],
   "source": [
    "\"\"\"\n",
    "import numpy as np\n",
    "# Calculate the quartiles of co2_emission.\n",
    "print(np.quantile(food_consumption['co2_emission'], [0, 0.25, 0.5, 0.75, 1]))\n",
    "\"\"\""
   ]
  },
  {
   "cell_type": "code",
   "execution_count": 44,
   "id": "ed7d738f-e5e7-4653-8256-b463d332b6a9",
   "metadata": {},
   "outputs": [
    {
     "data": {
      "text/plain": [
       "\"\\n# Calculate the quintiles of co2_emission\\nimport numpy as np\\n\\n# Calculate the quintiles of co2_emission\\nquintiles = np.quantile(food_consumption['co2_emission'], [0, 0.2, 0.4, 0.6, 0.8, 1])\\nprint(quintiles)\\n\""
      ]
     },
     "execution_count": 44,
     "metadata": {},
     "output_type": "execute_result"
    }
   ],
   "source": [
    "\"\"\"\n",
    "# Calculate the quintiles of co2_emission\n",
    "import numpy as np\n",
    "\n",
    "# Calculate the quintiles of co2_emission\n",
    "quintiles = np.quantile(food_consumption['co2_emission'], [0, 0.2, 0.4, 0.6, 0.8, 1])\n",
    "print(quintiles)\n",
    "\"\"\""
   ]
  },
  {
   "cell_type": "code",
   "execution_count": 45,
   "id": "480ff4fc-9838-4cec-8e0d-9c2b0602265c",
   "metadata": {},
   "outputs": [
    {
     "data": {
      "text/plain": [
       "\"\\n# Calculate the deciles of co2_emission\\nimport numpy as np\\n--------------------------------------\\n# Calculate the deciles of co2_emission\\ndeciles = np.quantile(food_consumption['co2_emission'], np.arange(0, 1.1, 0.1))\\nprint(deciles)\\n\""
      ]
     },
     "execution_count": 45,
     "metadata": {},
     "output_type": "execute_result"
    }
   ],
   "source": [
    "\"\"\"\n",
    "# Calculate the deciles of co2_emission\n",
    "import numpy as np\n",
    "--------------------------------------\n",
    "# Calculate the deciles of co2_emission\n",
    "deciles = np.quantile(food_consumption['co2_emission'], np.arange(0, 1.1, 0.1))\n",
    "print(deciles)\n",
    "\"\"\""
   ]
  },
  {
   "cell_type": "code",
   "execution_count": 46,
   "id": "84fb94d0-5f3d-4ef6-9549-0d67cfb63d0e",
   "metadata": {},
   "outputs": [
    {
     "data": {
      "text/plain": [
       "\"\\nimport numpy as np\\nimport pandas as pd\\nimport matplotlib.pyplot as plt\\n\\n# Assuming food_consumption is a DataFrame with columns 'co2_emission' and 'food_category'\\n\\n# Print variance and sd of co2_emission for each food_category\\nstats = food_consumption.groupby('food_category')['co2_emission'].agg(['var', 'std'])\\nprint(stats)\\n\\n# Import matplotlib.pyplot with alias plt\\nimport matplotlib.pyplot as plt\\n\\n# Create histogram of co2_emission for food_category 'beef'\\nplt.figure(figsize=(8, 6))\\nplt.hist(food_consumption[food_consumption['food_category'] == 'beef']['co2_emission'], bins=30, alpha=0.7, color='b', label='Beef')\\nplt.title('Histogram of CO2 Emission for Beef')\\nplt.xlabel('CO2 Emission')\\nplt.ylabel('Frequency')\\nplt.legend()\\n\\n# Show plot\\nplt.show()\\n\\n# Create histogram of co2_emission for food_category 'eggs'\\nplt.figure(figsize=(8, 6))\\nplt.hist(food_consumption[food_consumption['food_category'] == 'eggs']['co2_emission'], bins=30, alpha=0.7, color='g', label='Eggs')\\nplt.title('Histogram of CO2 Emission for Eggs')\\nplt.xlabel('CO2 Emission')\\nplt.ylabel('Frequency')\\nplt.legend()\\n\\n# Show plot\\nplt.show()\\n\""
      ]
     },
     "execution_count": 46,
     "metadata": {},
     "output_type": "execute_result"
    }
   ],
   "source": [
    "\"\"\"\n",
    "import numpy as np\n",
    "import pandas as pd\n",
    "import matplotlib.pyplot as plt\n",
    "\n",
    "# Assuming food_consumption is a DataFrame with columns 'co2_emission' and 'food_category'\n",
    "\n",
    "# Print variance and sd of co2_emission for each food_category\n",
    "stats = food_consumption.groupby('food_category')['co2_emission'].agg(['var', 'std'])\n",
    "print(stats)\n",
    "\n",
    "# Import matplotlib.pyplot with alias plt\n",
    "import matplotlib.pyplot as plt\n",
    "\n",
    "# Create histogram of co2_emission for food_category 'beef'\n",
    "plt.figure(figsize=(8, 6))\n",
    "plt.hist(food_consumption[food_consumption['food_category'] == 'beef']['co2_emission'], bins=30, alpha=0.7, color='b', label='Beef')\n",
    "plt.title('Histogram of CO2 Emission for Beef')\n",
    "plt.xlabel('CO2 Emission')\n",
    "plt.ylabel('Frequency')\n",
    "plt.legend()\n",
    "\n",
    "# Show plot\n",
    "plt.show()\n",
    "\n",
    "# Create histogram of co2_emission for food_category 'eggs'\n",
    "plt.figure(figsize=(8, 6))\n",
    "plt.hist(food_consumption[food_consumption['food_category'] == 'eggs']['co2_emission'], bins=30, alpha=0.7, color='g', label='Eggs')\n",
    "plt.title('Histogram of CO2 Emission for Eggs')\n",
    "plt.xlabel('CO2 Emission')\n",
    "plt.ylabel('Frequency')\n",
    "plt.legend()\n",
    "\n",
    "# Show plot\n",
    "plt.show()\n",
    "\"\"\""
   ]
  },
  {
   "cell_type": "code",
   "execution_count": 47,
   "id": "13788343-05f8-4bf3-b96d-e06a204e30ca",
   "metadata": {},
   "outputs": [
    {
     "data": {
      "text/plain": [
       "\"\\nimport pandas as pd\\n# Assuming food_consumption is a DataFrame with columns 'co2_emission' and 'country'.\\n# Calculate total co2_emission per country: emissions_by_country.\\nemissions_by_country = food_consumption.groupby('country')['co2_emission'].sum()\\nprint(emissions_by_country)\\n\""
      ]
     },
     "execution_count": 47,
     "metadata": {},
     "output_type": "execute_result"
    }
   ],
   "source": [
    "\"\"\"\n",
    "import pandas as pd\n",
    "# Assuming food_consumption is a DataFrame with columns 'co2_emission' and 'country'.\n",
    "# Calculate total co2_emission per country: emissions_by_country.\n",
    "emissions_by_country = food_consumption.groupby('country')['co2_emission'].sum()\n",
    "print(emissions_by_country)\n",
    "\"\"\""
   ]
  },
  {
   "cell_type": "code",
   "execution_count": 48,
   "id": "234d02ae-f945-421f-aba1-800b5edb6300",
   "metadata": {},
   "outputs": [
    {
     "data": {
      "text/plain": [
       "'\\nimport pandas as pd\\n\\n# Assuming emissions_by_country is already calculated as described\\n# Calculate total co2_emission per country: emissions_by_country\\nemissions_by_country = food_consumption.groupby(\\'country\\')[\\'co2_emission\\'].sum()\\n\\n# Compute the first and third quartiles and IQR of emissions_by_country\\nq1 = emissions_by_country.quantile(0.25)\\nq3 = emissions_by_country.quantile(0.75)\\niqr = q3 - q1\\n\\nprint(\"First Quartile (Q1):\", q1)\\nprint(\"Third Quartile (Q3):\", q3)\\nprint(\"Interquartile Range (IQR):\", iqr)\\n'"
      ]
     },
     "execution_count": 48,
     "metadata": {},
     "output_type": "execute_result"
    }
   ],
   "source": [
    "\"\"\"\n",
    "import pandas as pd\n",
    "\n",
    "# Assuming emissions_by_country is already calculated as described\n",
    "# Calculate total co2_emission per country: emissions_by_country\n",
    "emissions_by_country = food_consumption.groupby('country')['co2_emission'].sum()\n",
    "\n",
    "# Compute the first and third quartiles and IQR of emissions_by_country\n",
    "q1 = emissions_by_country.quantile(0.25)\n",
    "q3 = emissions_by_country.quantile(0.75)\n",
    "iqr = q3 - q1\n",
    "\n",
    "print(\"First Quartile (Q1):\", q1)\n",
    "print(\"Third Quartile (Q3):\", q3)\n",
    "print(\"Interquartile Range (IQR):\", iqr)\n",
    "\"\"\""
   ]
  },
  {
   "cell_type": "code",
   "execution_count": 49,
   "id": "d44d320e-04a8-41e2-8adf-176b1cb62bfd",
   "metadata": {},
   "outputs": [
    {
     "data": {
      "text/plain": [
       "'\\nimport numpy as np\\nimport pandas as pd\\n\\n# Assuming emissions_by_country is already calculated as described\\n# Calculate total co2_emission per country: emissions_by_country\\nemissions_by_country = food_consumption.groupby(\\'country\\')[\\'co2_emission\\'].sum()\\n\\n# Compute the first and third quantiles and IQR of emissions_by_country\\nq1 = np.quantile(emissions_by_country, 0.25)\\nq3 = np.quantile(emissions_by_country, 0.75)\\niqr = q3 - q1\\n\\n# Calculate the lower and upper cutoffs for outliers\\nlower = q1 - 1.5 * iqr\\nupper = q3 + 1.5 * iqr\\n\\nprint(\"First Quartile (Q1):\", q1)\\nprint(\"Third Quartile (Q3):\", q3)\\nprint(\"Interquartile Range (IQR):\", iqr)\\nprint(\"Lower cutoff for outliers:\", lower)\\nprint(\"Upper cutoff for outliers:\", upper)\\n'"
      ]
     },
     "execution_count": 49,
     "metadata": {},
     "output_type": "execute_result"
    }
   ],
   "source": [
    "\"\"\"\n",
    "import numpy as np\n",
    "import pandas as pd\n",
    "\n",
    "# Assuming emissions_by_country is already calculated as described\n",
    "# Calculate total co2_emission per country: emissions_by_country\n",
    "emissions_by_country = food_consumption.groupby('country')['co2_emission'].sum()\n",
    "\n",
    "# Compute the first and third quantiles and IQR of emissions_by_country\n",
    "q1 = np.quantile(emissions_by_country, 0.25)\n",
    "q3 = np.quantile(emissions_by_country, 0.75)\n",
    "iqr = q3 - q1\n",
    "\n",
    "# Calculate the lower and upper cutoffs for outliers\n",
    "lower = q1 - 1.5 * iqr\n",
    "upper = q3 + 1.5 * iqr\n",
    "\n",
    "print(\"First Quartile (Q1):\", q1)\n",
    "print(\"Third Quartile (Q3):\", q3)\n",
    "print(\"Interquartile Range (IQR):\", iqr)\n",
    "print(\"Lower cutoff for outliers:\", lower)\n",
    "print(\"Upper cutoff for outliers:\", upper)\n",
    "\"\"\""
   ]
  },
  {
   "cell_type": "code",
   "execution_count": 50,
   "id": "2a1e4fc3-562f-4beb-a84f-7282dd753124",
   "metadata": {},
   "outputs": [
    {
     "data": {
      "text/plain": [
       "'\\n>>Introduction to Statistics in Python<<<\\nWhat is statistics?\\nDescriptive and inferential statistics\\nData type classification\\nMeasures of center\\nMean and median\\nMean vs. median\\nMeasures of spread\\nQuartiles, quantiles, and quintiles\\nVariance and standard deviation\\nFinding outliers using IQR\\n'"
      ]
     },
     "execution_count": 50,
     "metadata": {},
     "output_type": "execute_result"
    }
   ],
   "source": [
    "\"\"\"\n",
    ">>Introduction to Statistics in Python<<<\n",
    "What is statistics?\n",
    "Descriptive and inferential statistics\n",
    "Data type classification\n",
    "Measures of center\n",
    "Mean and median\n",
    "Mean vs. median\n",
    "Measures of spread\n",
    "Quartiles, quantiles, and quintiles\n",
    "Variance and standard deviation\n",
    "Finding outliers using IQR\n",
    "\"\"\""
   ]
  },
  {
   "cell_type": "code",
   "execution_count": 51,
   "id": "b560d040-1f0e-4c17-9348-6bd0931f85ff",
   "metadata": {},
   "outputs": [
    {
     "data": {
      "text/plain": [
       "'End of Introduction to Statistics in Python i will Apply on Statistics Project'"
      ]
     },
     "execution_count": 51,
     "metadata": {},
     "output_type": "execute_result"
    }
   ],
   "source": [
    "\"End of Introduction to Statistics in Python i will Apply on Statistics Project\""
   ]
  },
  {
   "cell_type": "code",
   "execution_count": 3,
   "id": "9974de3e-2838-40c5-85fd-51a9bda3bac9",
   "metadata": {},
   "outputs": [
    {
     "data": {
      "text/plain": [
       "'\\n2. Descriptive Statistics Fundamentals.\\n3. Inferential Statistics Fundamentals.\\n'"
      ]
     },
     "execution_count": 3,
     "metadata": {},
     "output_type": "execute_result"
    }
   ],
   "source": [
    "\"\"\"\n",
    "2. Descriptive Statistics Fundamentals.\n",
    "3. Inferential Statistics Fundamentals.\n",
    "\"\"\""
   ]
  },
  {
   "cell_type": "code",
   "execution_count": 5,
   "id": "c4780092-5b6f-4a3d-a27f-21215c06422b",
   "metadata": {},
   "outputs": [
    {
     "name": "stdout",
     "output_type": "stream",
     "text": [
      "2. Descriptive Statistics Fundamentals\n"
     ]
    },
    {
     "data": {
      "text/plain": [
       "\"أساسيات الإحصاء الوصفي'\""
      ]
     },
     "execution_count": 5,
     "metadata": {},
     "output_type": "execute_result"
    }
   ],
   "source": [
    "print(\"2. Descriptive Statistics Fundamentals\")\n",
    "\"أساسيات الإحصاء الوصفي'\""
   ]
  },
  {
   "cell_type": "code",
   "execution_count": 6,
   "id": "9881c724-c82e-441b-abd6-758f4c709d6f",
   "metadata": {},
   "outputs": [
    {
     "data": {
      "text/plain": [
       "'1. Types of data and levels of measurement'"
      ]
     },
     "execution_count": 6,
     "metadata": {},
     "output_type": "execute_result"
    }
   ],
   "source": [
    "\"1. Types of data and levels of measurement\""
   ]
  },
  {
   "cell_type": "code",
   "execution_count": 7,
   "id": "241e100a-658e-4e6e-ade9-c5dc9abe0179",
   "metadata": {},
   "outputs": [
    {
     "data": {
      "text/plain": [
       "'Types of DATA and Measurement Levels'"
      ]
     },
     "execution_count": 7,
     "metadata": {},
     "output_type": "execute_result"
    }
   ],
   "source": [
    "\"Types of DATA and Measurement Levels\""
   ]
  },
  {
   "cell_type": "code",
   "execution_count": 8,
   "id": "77ae21d7-d48a-42ea-930f-7e03a0ea3e66",
   "metadata": {},
   "outputs": [
    {
     "data": {
      "text/plain": [
       "'\\n>>Types of Data:-\\n1.Categorical:categories or groupsالفئات أو المجموعات.\\nAs Car Brands,Yes and No Questions.\\nAs Do you own a car?\\n2.Numerical:Discrete and continuousمنفصلة ومتصلة.\\nDiscrete>>#ofchildren>>X10;\\nS.A.T Score>>1000,1560,1570,2400>>from 600 to 2400;\\nContinuous>>infinity-Number>>Body-weight-calculator;\\n>>68.0389kg>>can change.\\n>>Continuous>>Weight;\\n>>Discrete>>#ofchildren;\\n'"
      ]
     },
     "execution_count": 8,
     "metadata": {},
     "output_type": "execute_result"
    }
   ],
   "source": [
    "\"\"\"\n",
    ">>Types of Data:-\n",
    "1.Categorical:categories or groupsالفئات أو المجموعات.\n",
    "As Car Brands,Yes and No Questions.\n",
    "As Do you own a car?\n",
    "2.Numerical:Discrete and continuousمنفصلة ومتصلة.\n",
    "Discrete>>#ofchildren>>X10;\n",
    "S.A.T Score>>1000,1560,1570,2400>>from 600 to 2400;\n",
    "Continuous>>infinity-Number>>Body-weight-calculator;\n",
    ">>68.0389kg>>can change.\n",
    ">>Continuous>>Weight;\n",
    ">>Discrete>>#ofchildren;\n",
    "\"\"\""
   ]
  },
  {
   "cell_type": "code",
   "execution_count": 9,
   "id": "25c97bfc-4071-4cca-9cfc-95bc53667796",
   "metadata": {},
   "outputs": [
    {
     "data": {
      "text/plain": [
       "'\\n>>Examples of Discrete<<\\n1.Grades.\\n2.Number of Objects.\\n3.Money.\\n>>Example of Continuous<<\\n1.Height.\\n2.Area.\\n3.Distance.\\n4.Time.\\n'"
      ]
     },
     "execution_count": 9,
     "metadata": {},
     "output_type": "execute_result"
    }
   ],
   "source": [
    "\"\"\"\n",
    ">>Examples of Discrete<<\n",
    "1.Grades.\n",
    "2.Number of Objects.\n",
    "3.Money.\n",
    ">>Example of Continuous<<\n",
    "1.Height.\n",
    "2.Area.\n",
    "3.Distance.\n",
    "4.Time.\n",
    "\"\"\""
   ]
  },
  {
   "cell_type": "code",
   "execution_count": 10,
   "id": "5f2f6853-2922-4527-b442-6375fd1d189f",
   "metadata": {},
   "outputs": [
    {
     "data": {
      "text/plain": [
       "'\\n>>Time on a clock is Discrete;\\n>>Time in General is Continuous;\\n'"
      ]
     },
     "execution_count": 10,
     "metadata": {},
     "output_type": "execute_result"
    }
   ],
   "source": [
    "\"\"\"\n",
    ">>Time on a clock is Discrete;\n",
    ">>Time in General is Continuous;\n",
    "\"\"\""
   ]
  },
  {
   "cell_type": "code",
   "execution_count": 11,
   "id": "25ff37a3-c295-4292-9bf3-a79571023814",
   "metadata": {},
   "outputs": [
    {
     "data": {
      "text/plain": [
       "'2. Levels of measurement'"
      ]
     },
     "execution_count": 11,
     "metadata": {},
     "output_type": "execute_result"
    }
   ],
   "source": [
    "\"2. Levels of measurement\""
   ]
  },
  {
   "cell_type": "code",
   "execution_count": 13,
   "id": "ef3e81ac-6954-464a-bb9f-9b69bede2144",
   "metadata": {},
   "outputs": [
    {
     "data": {
      "text/plain": [
       "'\\nMeasurement Levelsمستويات القياس..\\n1.quaLitative.\\n2.quanTitative.\\n1.نوعية.\\n2.كمية.\\n'"
      ]
     },
     "execution_count": 13,
     "metadata": {},
     "output_type": "execute_result"
    }
   ],
   "source": [
    "\"\"\"\n",
    "Measurement Levelsمستويات القياس..\n",
    "1.quaLitative.\n",
    "2.quanTitative.\n",
    "1.نوعية.\n",
    "2.كمية.\n",
    "\"\"\""
   ]
  },
  {
   "cell_type": "code",
   "execution_count": 14,
   "id": "069f0f4e-775f-4922-9800-916dbda6e864",
   "metadata": {},
   "outputs": [
    {
     "data": {
      "text/plain": [
       "'\\n>>quaLitative:-\\n1>>Nominalاسمي>>BMW;\\n2>>Ordinalترتيبي>>from - to +;\\n'"
      ]
     },
     "execution_count": 14,
     "metadata": {},
     "output_type": "execute_result"
    }
   ],
   "source": [
    "\"\"\"\n",
    ">>quaLitative:-\n",
    "1>>Nominalاسمي>>BMW;\n",
    "2>>Ordinalترتيبي>>from - to +;\n",
    "\"\"\""
   ]
  },
  {
   "cell_type": "code",
   "execution_count": 16,
   "id": "4451b7d4-8ff1-45a1-9cee-f821f0d32351",
   "metadata": {},
   "outputs": [
    {
     "data": {
      "text/plain": [
       "\"\\n>>quanTitative:-\\n1>>Intervalالفاصل الزمني.\\n>>Doesn't have a True 0.\\n2>>Ratioالنسبة.\\n>>Has A True 0.\\n>>Ratio of 6/2 is == 3.\\n\""
      ]
     },
     "execution_count": 16,
     "metadata": {},
     "output_type": "execute_result"
    }
   ],
   "source": [
    "\"\"\"\n",
    ">>quanTitative:-\n",
    "1>>Intervalالفاصل الزمني.\n",
    ">>Doesn't have a True 0.\n",
    "2>>Ratioالنسبة.\n",
    ">>Has A True 0.\n",
    ">>Ratio of 6/2 is == 3.\n",
    "\"\"\""
   ]
  },
  {
   "cell_type": "code",
   "execution_count": 17,
   "id": "fa052da2-297e-4fab-b5b2-450bda1445cc",
   "metadata": {},
   "outputs": [
    {
     "data": {
      "text/plain": [
       "'\\n>>Ratio:-\\n1.Number of Objects.\\n2.Distance.\\n3.Time.\\n>>Interval:-\\n1.Today 5C or 41F.\\n2.Yesterday 10C or 50F.\\n>>0C and 0F are Not True Zeros.\\n'"
      ]
     },
     "execution_count": 17,
     "metadata": {},
     "output_type": "execute_result"
    }
   ],
   "source": [
    "\"\"\"\n",
    ">>Ratio:-\n",
    "1.Number of Objects.\n",
    "2.Distance.\n",
    "3.Time.\n",
    ">>Interval:-\n",
    "1.Today 5C or 41F.\n",
    "2.Yesterday 10C or 50F.\n",
    ">>0C and 0F are Not True Zeros.\n",
    "\"\"\""
   ]
  },
  {
   "cell_type": "code",
   "execution_count": 19,
   "id": "b8924cae-a757-418e-83c1-14e696c696ba",
   "metadata": {},
   "outputs": [
    {
     "data": {
      "text/plain": [
       "\"\\nRatio:-\\n>>has a True 0.\\nInterval:-\\n>>don't have True 0.\\n>>2,3,10,10.5,ETC>>Both Ratio and Interval.\\n\""
      ]
     },
     "execution_count": 19,
     "metadata": {},
     "output_type": "execute_result"
    }
   ],
   "source": [
    "\"\"\"\n",
    "Ratio:-\n",
    ">>has a True 0.\n",
    "Interval:-\n",
    ">>don't have True 0.\n",
    ">>2,3,10,10.5,ETC>>Both Ratio and Interval.\n",
    "\"\"\""
   ]
  },
  {
   "cell_type": "code",
   "execution_count": 20,
   "id": "8b0b959a-3473-4a8f-8f26-2d591489307e",
   "metadata": {},
   "outputs": [
    {
     "data": {
      "text/plain": [
       "'3. Categorical Variables. Visualization techniques.'"
      ]
     },
     "execution_count": 20,
     "metadata": {},
     "output_type": "execute_result"
    }
   ],
   "source": [
    "\"3. Categorical Variables. Visualization techniques.\""
   ]
  },
  {
   "cell_type": "code",
   "execution_count": 22,
   "id": "4a1738c6-4b4d-49e8-b9ea-f28df22a6afe",
   "metadata": {},
   "outputs": [
    {
     "data": {
      "text/plain": [
       "'\\n1.Frequency-Distribution-Tables.\\n2.Bar-Charts.\\n3.Pie-Charts.\\n4.pareto-Diagrams.\\n'"
      ]
     },
     "execution_count": 22,
     "metadata": {},
     "output_type": "execute_result"
    }
   ],
   "source": [
    "\"\"\"\n",
    "1.Frequency-Distribution-Tables.\n",
    "2.Bar-Charts.\n",
    "3.Pie-Charts.\n",
    "4.pareto-Diagrams.\n",
    "\"\"\""
   ]
  },
  {
   "cell_type": "code",
   "execution_count": 23,
   "id": "2e1900ef-8e84-408c-a3cc-3a48b5a5473c",
   "metadata": {},
   "outputs": [
    {
     "data": {
      "text/plain": [
       "'\\n1.Frequency-Distribution-Tables.\\n2.Bar-Charts.\\n3.Pie-Charts.\\n4.pareto-Diagrams.>>Ask ChatGPT using python.\\n'"
      ]
     },
     "execution_count": 23,
     "metadata": {},
     "output_type": "execute_result"
    }
   ],
   "source": [
    "\"\"\"\n",
    "1.Frequency-Distribution-Tables.\n",
    "2.Bar-Charts.\n",
    "3.Pie-Charts.\n",
    "4.pareto-Diagrams.>>Ask ChatGPT using python.\n",
    "\"\"\""
   ]
  },
  {
   "cell_type": "code",
   "execution_count": 24,
   "id": "356cd58b-9e97-466d-b804-dc355a425911",
   "metadata": {},
   "outputs": [
    {
     "data": {
      "text/plain": [
       "'Market share'"
      ]
     },
     "execution_count": 24,
     "metadata": {},
     "output_type": "execute_result"
    }
   ],
   "source": [
    "\"Market share\""
   ]
  },
  {
   "cell_type": "code",
   "execution_count": 25,
   "id": "af208910-07e9-4981-b08d-db66805e10e1",
   "metadata": {},
   "outputs": [
    {
     "data": {
      "text/plain": [
       "'80% of the effect come from 20% of the causes'"
      ]
     },
     "execution_count": 25,
     "metadata": {},
     "output_type": "execute_result"
    }
   ],
   "source": [
    "\"80% of the effect come from 20% of the causes\""
   ]
  },
  {
   "cell_type": "code",
   "execution_count": 26,
   "id": "941d3c4f-d2e7-4661-ae0a-c660c127a4df",
   "metadata": {},
   "outputs": [
    {
     "data": {
      "text/plain": [
       "'80% من التأثير يأتي من 20% من الأسباب'"
      ]
     },
     "execution_count": 26,
     "metadata": {},
     "output_type": "execute_result"
    }
   ],
   "source": [
    "\"80% من التأثير يأتي من 20% من الأسباب\""
   ]
  },
  {
   "cell_type": "code",
   "execution_count": 27,
   "id": "98dd5209-715d-4c21-9a0f-4812325a7b27",
   "metadata": {},
   "outputs": [
    {
     "data": {
      "text/plain": [
       "'4. Numerical Variables. Frequency distribution table.'"
      ]
     },
     "execution_count": 27,
     "metadata": {},
     "output_type": "execute_result"
    }
   ],
   "source": [
    "\"4. Numerical Variables. Frequency distribution table.\""
   ]
  },
  {
   "cell_type": "code",
   "execution_count": 28,
   "id": "1d2b2cd9-7453-45fd-aca8-f5062e867803",
   "metadata": {},
   "outputs": [
    {
     "data": {
      "text/plain": [
       "'Graphs and tables for numerical variables.Frequency distribution table.'"
      ]
     },
     "execution_count": 28,
     "metadata": {},
     "output_type": "execute_result"
    }
   ],
   "source": [
    "\"Graphs and tables for numerical variables.Frequency distribution table.\""
   ]
  },
  {
   "cell_type": "code",
   "execution_count": 29,
   "id": "4c4cfe25-175a-473a-9b67-70c1d95d0858",
   "metadata": {},
   "outputs": [
    {
     "data": {
      "text/plain": [
       "'The_histogram'"
      ]
     },
     "execution_count": 29,
     "metadata": {},
     "output_type": "execute_result"
    }
   ],
   "source": [
    "\"The_histogram\""
   ]
  },
  {
   "cell_type": "code",
   "execution_count": 30,
   "id": "0bf6d271-b502-4479-beba-60bf0e30219b",
   "metadata": {},
   "outputs": [
    {
     "data": {
      "text/plain": [
       "'Horizontal axis is numerical,too'"
      ]
     },
     "execution_count": 30,
     "metadata": {},
     "output_type": "execute_result"
    }
   ],
   "source": [
    "\"Horizontal axis is numerical,too\""
   ]
  },
  {
   "cell_type": "code",
   "execution_count": 32,
   "id": "6ffde4f3-b299-4bf2-9a8d-735d6a717f28",
   "metadata": {},
   "outputs": [
    {
     "data": {
      "text/plain": [
       "'6. Cross Table and Scatter Plots'"
      ]
     },
     "execution_count": 32,
     "metadata": {},
     "output_type": "execute_result"
    }
   ],
   "source": [
    "\"6. Cross Table and Scatter Plots\""
   ]
  },
  {
   "cell_type": "code",
   "execution_count": 34,
   "id": "234c46b2-f98c-4d09-95e0-0803d10c2782",
   "metadata": {},
   "outputs": [
    {
     "data": {
      "text/plain": [
       "'Investment-Manager:-\\n1.Stocks.\\n2.Bonds.\\n3.Real Estate.\\nInvestorA,InvestorB,InvestorC.\\n'"
      ]
     },
     "execution_count": 34,
     "metadata": {},
     "output_type": "execute_result"
    }
   ],
   "source": [
    "\"\"\"Investment-Manager:-\n",
    "1.Stocks.\n",
    "2.Bonds.\n",
    "3.Real Estate.\n",
    "InvestorA,InvestorB,InvestorC.\n",
    "\"\"\""
   ]
  },
  {
   "cell_type": "code",
   "execution_count": 36,
   "id": "a845a2df-3f48-4865-bc7c-7f0ecbcc4c5c",
   "metadata": {},
   "outputs": [
    {
     "data": {
      "text/plain": [
       "'Scatter plots represent lots and lots of Observationsالملاحظات'"
      ]
     },
     "execution_count": 36,
     "metadata": {},
     "output_type": "execute_result"
    }
   ],
   "source": [
    "\"Scatter plots represent lots and lots of Observationsالملاحظات\""
   ]
  },
  {
   "cell_type": "code",
   "execution_count": 37,
   "id": "d0be82f9-8424-44bc-83c8-59765655e858",
   "metadata": {},
   "outputs": [
    {
     "data": {
      "text/plain": [
       "'Cross Table and Scatter Plots Using Python Ask ChatGPT'"
      ]
     },
     "execution_count": 37,
     "metadata": {},
     "output_type": "execute_result"
    }
   ],
   "source": [
    "\"Cross Table and Scatter Plots Using Python Ask ChatGPT\""
   ]
  },
  {
   "cell_type": "code",
   "execution_count": 3,
   "id": "a810389a-2060-4783-8758-209cba44d960",
   "metadata": {},
   "outputs": [
    {
     "data": {
      "text/plain": [
       "'\\nif the frequency of a variable is 20 and its total \\nfrequency of all variables is 120,\\nwhat is its relative frequency?>>0.17;\\n>>20/120 = 0.17>>Relative Frequency;\\n'"
      ]
     },
     "execution_count": 3,
     "metadata": {},
     "output_type": "execute_result"
    }
   ],
   "source": [
    "\"\"\"\n",
    "if the frequency of a variable is 20 and its total \n",
    "frequency of all variables is 120,\n",
    "what is its relative frequency?>>0.17;\n",
    ">>20/120 = 0.17>>Relative Frequency;\n",
    "\"\"\""
   ]
  },
  {
   "cell_type": "code",
   "execution_count": 4,
   "id": "abc856cb-c194-4a85-a06a-0822319bf18e",
   "metadata": {},
   "outputs": [
    {
     "data": {
      "text/plain": [
       "'>>7. Mean(), median(), mode().'"
      ]
     },
     "execution_count": 4,
     "metadata": {},
     "output_type": "execute_result"
    }
   ],
   "source": [
    "\">>7. Mean(), median(), mode().\""
   ]
  },
  {
   "cell_type": "code",
   "execution_count": 5,
   "id": "037a262c-2538-4437-b550-93c7ea3e2443",
   "metadata": {},
   "outputs": [
    {
     "data": {
      "text/plain": [
       "'>>Measures of Central Tendency<<'"
      ]
     },
     "execution_count": 5,
     "metadata": {},
     "output_type": "execute_result"
    }
   ],
   "source": [
    "\">>Measures of Central Tendency<<\""
   ]
  },
  {
   "cell_type": "code",
   "execution_count": 6,
   "id": "4ae352fd-6eb9-4a37-8481-0a8562f55342",
   "metadata": {},
   "outputs": [
    {
     "data": {
      "text/plain": [
       "'Mean, median and mode'"
      ]
     },
     "execution_count": 6,
     "metadata": {},
     "output_type": "execute_result"
    }
   ],
   "source": [
    "\"Mean, median and mode\""
   ]
  },
  {
   "cell_type": "code",
   "execution_count": 7,
   "id": "c3c3fd35-2300-4c31-af4b-7a685b2cb9f5",
   "metadata": {},
   "outputs": [
    {
     "data": {
      "text/plain": [
       "'\\nMean>>Simple Average>>Mean>>Sum/Num;\\nMean in LA = (1+2+3+4+5+6+7+8+9+10)/10;\\n'"
      ]
     },
     "execution_count": 7,
     "metadata": {},
     "output_type": "execute_result"
    }
   ],
   "source": [
    "\"\"\"\n",
    "Mean>>Simple Average>>Mean>>Sum/Num;\n",
    "Mean in LA = (1+2+3+4+5+6+7+8+9+10)/10;\n",
    "\"\"\""
   ]
  },
  {
   "cell_type": "code",
   "execution_count": 9,
   "id": "d46d3ccd-7d44-4753-b2bf-68cfdc7c71d0",
   "metadata": {},
   "outputs": [
    {
     "data": {
      "text/plain": [
       "'\\nMedian>>is The Middle number in an ordered Dataset;\\n1,2,3,3,5,6,7,8,9,11,66;\\nMedian == 6;\\n1,2,3,4,5,6,7,8,9,10;\\nMedian == (5+6)/2 = 5.5;\\n'"
      ]
     },
     "execution_count": 9,
     "metadata": {},
     "output_type": "execute_result"
    }
   ],
   "source": [
    "\"\"\"\n",
    "Median>>is The Middle number in an ordered Dataset;\n",
    "1,2,3,3,5,6,7,8,9,11,66;\n",
    "Median == 6;\n",
    "1,2,3,4,5,6,7,8,9,10;\n",
    "Median == (5+6)/2 = 5.5;\n",
    "\"\"\""
   ]
  },
  {
   "cell_type": "code",
   "execution_count": 11,
   "id": "028dc7cf-6fee-4acc-bdb1-193d3f24badb",
   "metadata": {},
   "outputs": [
    {
     "data": {
      "text/plain": [
       "'\\n1,2,3,3,5,6,7,8,9,11,66;\\nmode == 3;\\nاكثر رقم تككرر\\n'"
      ]
     },
     "execution_count": 11,
     "metadata": {},
     "output_type": "execute_result"
    }
   ],
   "source": [
    "\"\"\"\n",
    "1,2,3,3,5,6,7,8,9,11,66;\n",
    "mode == 3;\n",
    "اكثر رقم تككرر\n",
    "\"\"\""
   ]
  },
  {
   "cell_type": "code",
   "execution_count": 14,
   "id": "1d2a8a96-83bf-4163-a456-3892ad39bd57",
   "metadata": {},
   "outputs": [
    {
     "data": {
      "text/plain": [
       "'\\n>>Mean, Median, Mode<<\\nWhich measure is best?\\n>>There is no best, \\nbut using only one is definitely The worst!\\n'"
      ]
     },
     "execution_count": 14,
     "metadata": {},
     "output_type": "execute_result"
    }
   ],
   "source": [
    "\"\"\"\n",
    ">>Mean, Median, Mode<<\n",
    "Which measure is best?\n",
    ">>There is no best, \n",
    "but using only one is definitely The worst!\n",
    "\"\"\""
   ]
  },
  {
   "cell_type": "code",
   "execution_count": 16,
   "id": "40812328-e11c-479f-a1b6-4ddb9b217ad4",
   "metadata": {},
   "outputs": [
    {
     "data": {
      "text/plain": [
       "'\\n8. Skewness.\\n>>mean,median,mode;\\nPositive skew.\\nZero skew.\\nNegative skew.\\n'"
      ]
     },
     "execution_count": 16,
     "metadata": {},
     "output_type": "execute_result"
    }
   ],
   "source": [
    "\"\"\"\n",
    "8. Skewness.\n",
    ">>mean,median,mode;\n",
    "Positive skew.\n",
    "Zero skew.\n",
    "Negative skew.\n",
    "\"\"\""
   ]
  },
  {
   "cell_type": "code",
   "execution_count": 17,
   "id": "e2cf48e0-95e0-4d6f-95e0-a82b6e651556",
   "metadata": {},
   "outputs": [
    {
     "data": {
      "text/plain": [
       "'skewness with python with ChatGPT'"
      ]
     },
     "execution_count": 17,
     "metadata": {},
     "output_type": "execute_result"
    }
   ],
   "source": [
    "\"skewness with python with ChatGPT\""
   ]
  },
  {
   "cell_type": "code",
   "execution_count": 18,
   "id": "08a10fe5-30c3-4e91-8f0d-659d8afa04b1",
   "metadata": {},
   "outputs": [
    {
     "data": {
      "text/plain": [
       "'Variance'"
      ]
     },
     "execution_count": 18,
     "metadata": {},
     "output_type": "execute_result"
    }
   ],
   "source": [
    "\"Variance\""
   ]
  },
  {
   "cell_type": "code",
   "execution_count": 19,
   "id": "a9f01705-8acc-4b34-9e52-95564289b890",
   "metadata": {},
   "outputs": [
    {
     "data": {
      "text/plain": [
       "'\\n>>We Will Cover:-\\n1.Variance.\\n2.Standard Deviation.\\n3.Coefficient variation.\\n'"
      ]
     },
     "execution_count": 19,
     "metadata": {},
     "output_type": "execute_result"
    }
   ],
   "source": [
    "\"\"\"\n",
    ">>We Will Cover:-\n",
    "1.Variance.\n",
    "2.Standard Deviation.\n",
    "3.Coefficient variation.\n",
    "\"\"\""
   ]
  },
  {
   "cell_type": "code",
   "execution_count": 6,
   "id": "8b30ea93-1d3d-4297-a21d-051564e5fd0a",
   "metadata": {},
   "outputs": [
    {
     "data": {
      "text/plain": [
       "'\\n>>Population Variance Formula;\\n>>Variance;\\nPopulation   Mean=3.00;\\n1\\n2\\n3\\n4\\n5\\n-----------------------\\n∑(xi-M)Power2/N =(1-3)^2+(2-3)^2+(3-3)^2+(4-3)^2+(5-3)^2/5\\n>>Population variance formula=2;\\n>>Sample variance=2.50;\\n'"
      ]
     },
     "execution_count": 6,
     "metadata": {},
     "output_type": "execute_result"
    }
   ],
   "source": [
    "\"\"\"\n",
    ">>Population Variance Formula;\n",
    ">>Variance;\n",
    "Population   Mean=3.00;\n",
    "1\n",
    "2\n",
    "3\n",
    "4\n",
    "5\n",
    "-----------------------\n",
    "∑(xi-M)Power2/N =(1-3)^2+(2-3)^2+(3-3)^2+(4-3)^2+(5-3)^2/5\n",
    ">>Population variance formula=2;\n",
    ">>Sample variance=2.50;\n",
    "\"\"\""
   ]
  },
  {
   "cell_type": "code",
   "execution_count": 7,
   "id": "68a6da71-8bcf-4837-ba7b-ed733ded9676",
   "metadata": {},
   "outputs": [
    {
     "data": {
      "text/plain": [
       "'10. Standard Deviation and Coefficient of Variation'"
      ]
     },
     "execution_count": 7,
     "metadata": {},
     "output_type": "execute_result"
    }
   ],
   "source": [
    "\"10. Standard Deviation and Coefficient of Variation\""
   ]
  },
  {
   "cell_type": "code",
   "execution_count": 8,
   "id": "76a1575b-9940-4307-8c60-8724b24cbcb2",
   "metadata": {},
   "outputs": [
    {
     "data": {
      "text/plain": [
       "'root(∑(xi-M)Power2/N)'"
      ]
     },
     "execution_count": 8,
     "metadata": {},
     "output_type": "execute_result"
    }
   ],
   "source": [
    "\"root(∑(xi-M)Power2/N)\""
   ]
  },
  {
   "cell_type": "code",
   "execution_count": 9,
   "id": "aaf231ff-bcf5-4156-8361-16432576600e",
   "metadata": {},
   "outputs": [
    {
     "data": {
      "text/plain": [
       "'11. Covariance'"
      ]
     },
     "execution_count": 9,
     "metadata": {},
     "output_type": "execute_result"
    }
   ],
   "source": [
    "\"11. Covariance\""
   ]
  },
  {
   "cell_type": "code",
   "execution_count": 11,
   "id": "3bb91d45-a498-40c1-8273-66a11ad279ac",
   "metadata": {},
   "outputs": [
    {
     "data": {
      "text/plain": [
       "'\\n>>Co-variance may be:\\n>0\\n=0\\n<0\\n'"
      ]
     },
     "execution_count": 11,
     "metadata": {},
     "output_type": "execute_result"
    }
   ],
   "source": [
    "\"\"\"\n",
    ">>Co-variance may be:\n",
    ">0\n",
    "=0\n",
    "<0\n",
    "\"\"\""
   ]
  },
  {
   "cell_type": "code",
   "execution_count": 21,
   "id": "02d416e6-21f4-45d8-b8de-304abe954103",
   "metadata": {},
   "outputs": [
    {
     "data": {
      "text/plain": [
       "'\\nSize Pirce\\n650  772,000\\n785  998,000\\n1200 1,200,000\\n720  800,000\\n975  895,000\\n'"
      ]
     },
     "execution_count": 21,
     "metadata": {},
     "output_type": "execute_result"
    }
   ],
   "source": [
    "\"\"\"\n",
    "Size Pirce\n",
    "650  772,000\n",
    "785  998,000\n",
    "1200 1,200,000\n",
    "720  800,000\n",
    "975  895,000\n",
    "\"\"\""
   ]
  },
  {
   "cell_type": "code",
   "execution_count": 23,
   "id": "363d6e5d-81ad-4382-b907-fb70d06237a5",
   "metadata": {},
   "outputs": [
    {
     "data": {
      "text/plain": [
       "\"\\nSample formula.\\nSxy = ∑(Xi-X')*(Yi-Y')/n-1\\n--------------------------\\nX'\\t=\\tmean of x.\\nY'  =\\tmean of y.\\n--------------------------\\n>>(x-x')*(y-y') for every point;\\n\""
      ]
     },
     "execution_count": 23,
     "metadata": {},
     "output_type": "execute_result"
    }
   ],
   "source": [
    "\"\"\"\n",
    "Sample formula.\n",
    "Sxy = ∑(Xi-X')*(Yi-Y')/n-1\n",
    "--------------------------\n",
    "X'\t=\tmean of x.\n",
    "Y'  =\tmean of y.\n",
    "--------------------------\n",
    ">>(x-x')*(y-y') for every point;\n",
    "\"\"\""
   ]
  },
  {
   "cell_type": "code",
   "execution_count": 17,
   "id": "2e712de4-d1c0-4ad7-b624-434565d8c19f",
   "metadata": {},
   "outputs": [
    {
     "data": {
      "text/plain": [
       "'\\n> 0,move Together.\\n< 0,opposite Directions.\\n= 0,Independent.\\n'"
      ]
     },
     "execution_count": 17,
     "metadata": {},
     "output_type": "execute_result"
    }
   ],
   "source": [
    "\"\"\"\n",
    "> 0,move Together.\n",
    "< 0,opposite Directions.\n",
    "= 0,Independent.\n",
    "\"\"\""
   ]
  },
  {
   "cell_type": "code",
   "execution_count": 18,
   "id": "4e8f923b-3966-4cd8-9558-56f24cf9e1e0",
   "metadata": {},
   "outputs": [
    {
     "data": {
      "text/plain": [
       "'>>Correlation<<'"
      ]
     },
     "execution_count": 18,
     "metadata": {},
     "output_type": "execute_result"
    }
   ],
   "source": [
    "\">>Correlation<<\""
   ]
  },
  {
   "cell_type": "code",
   "execution_count": 20,
   "id": "41f1b025-a7eb-4fac-94c9-3530d4ea516a",
   "metadata": {},
   "outputs": [
    {
     "data": {
      "text/plain": [
       "'\\nSize Prce\\n650  772,000\\n785  998,000\\n1200 1,200,000\\n720  800,000\\n975  895,000\\n--------------\\nMean         866 933,000\\nStandard dev 222 173,615\\n'"
      ]
     },
     "execution_count": 20,
     "metadata": {},
     "output_type": "execute_result"
    }
   ],
   "source": [
    "\"\"\"\n",
    "Size Prce\n",
    "650  772,000\n",
    "785  998,000\n",
    "1200 1,200,000\n",
    "720  800,000\n",
    "975  895,000\n",
    "--------------\n",
    "Mean         866 933,000\n",
    "Standard dev 222 173,615\n",
    "\"\"\""
   ]
  },
  {
   "cell_type": "code",
   "execution_count": 22,
   "id": "4c68b196-d488-4160-8ea8-7e9c8dc5028f",
   "metadata": {},
   "outputs": [
    {
     "data": {
      "text/plain": [
       "'\\n>>Cov(x, y)/Stdev(x)*Stdev(y)\\n'"
      ]
     },
     "execution_count": 22,
     "metadata": {},
     "output_type": "execute_result"
    }
   ],
   "source": [
    "\"\"\"\n",
    ">>Cov(x, y)/Stdev(x)*Stdev(y)\n",
    "\"\"\""
   ]
  },
  {
   "cell_type": "code",
   "execution_count": 24,
   "id": "45a77ed3-f153-49f3-bddd-39d64f158a61",
   "metadata": {},
   "outputs": [
    {
     "data": {
      "text/plain": [
       "'3.Inferential Statistics Fundamentals'"
      ]
     },
     "execution_count": 24,
     "metadata": {},
     "output_type": "execute_result"
    }
   ],
   "source": [
    "\"3.Inferential Statistics Fundamentals\""
   ]
  },
  {
   "cell_type": "code",
   "execution_count": 1,
   "id": "7db028b7-c7bf-4bec-a74c-312a8c9a63c0",
   "metadata": {},
   "outputs": [
    {
     "data": {
      "text/plain": [
       "'Inferen_Tial-Statistics-Fundamentals'"
      ]
     },
     "execution_count": 1,
     "metadata": {},
     "output_type": "execute_result"
    }
   ],
   "source": [
    "\"Inferen_Tial-Statistics-Fundamentals\""
   ]
  },
  {
   "cell_type": "code",
   "execution_count": 2,
   "id": "8e2a3fa4-c279-4fe7-96ae-67b92d14e0fc",
   "metadata": {},
   "outputs": [
    {
     "data": {
      "text/plain": [
       "'\\n>>Inferential-Statistics.\\n1.Probability theory.\\n2.Distributions.\\n'"
      ]
     },
     "execution_count": 2,
     "metadata": {},
     "output_type": "execute_result"
    }
   ],
   "source": [
    "\"\"\"\n",
    ">>Inferential-Statistics.\n",
    "1.Probability theory.\n",
    "2.Distributions.\n",
    "\"\"\""
   ]
  },
  {
   "cell_type": "code",
   "execution_count": 4,
   "id": "50875ab0-ab11-4f88-8e21-04ab1a4f4d94",
   "metadata": {},
   "outputs": [
    {
     "data": {
      "text/plain": [
       "'\\n>>Fundamentals of quantitative research and \\nData Driven Decision Making. \\nأساسيات البحث الكمي واتخاذ القرارات بناءً على البيانات.\\n'"
      ]
     },
     "execution_count": 4,
     "metadata": {},
     "output_type": "execute_result"
    }
   ],
   "source": [
    "\"\"\"\n",
    ">>Fundamentals of quantitative research and \n",
    "Data Driven Decision Making. \n",
    "أساسيات البحث الكمي واتخاذ القرارات بناءً على البيانات.\n",
    "\"\"\""
   ]
  },
  {
   "cell_type": "code",
   "execution_count": 5,
   "id": "8911dcac-9ce2-4e54-9a4a-91d20d41f101",
   "metadata": {},
   "outputs": [
    {
     "data": {
      "text/plain": [
       "'2.What is a Distribution ?'"
      ]
     },
     "execution_count": 5,
     "metadata": {},
     "output_type": "execute_result"
    }
   ],
   "source": [
    "\"2.What is a Distribution ?\""
   ]
  },
  {
   "cell_type": "code",
   "execution_count": 6,
   "id": "b7cde792-7b36-48c6-8f8f-b220a031b422",
   "metadata": {},
   "outputs": [
    {
     "data": {
      "text/plain": [
       "'>>Distribution:-\\nNormal.\\nBinomial.\\nUniform.\\n'"
      ]
     },
     "execution_count": 6,
     "metadata": {},
     "output_type": "execute_result"
    }
   ],
   "source": [
    "\"\"\">>Distribution:-\n",
    "Normal.\n",
    "Binomial.\n",
    "Uniform.\n",
    "\"\"\""
   ]
  },
  {
   "cell_type": "code",
   "execution_count": 8,
   "id": "4dab9cd1-195e-4550-9ff7-8f0edc63711e",
   "metadata": {},
   "outputs": [
    {
     "data": {
      "text/plain": [
       "'\\n>>Rolling A Die;\\n>>Probability of getting 1\\n>>1/6.\\n>>Probability of getting 2\\n>>1/6.\\n'"
      ]
     },
     "execution_count": 8,
     "metadata": {},
     "output_type": "execute_result"
    }
   ],
   "source": [
    "\"\"\"\n",
    ">>Rolling A Die;\n",
    ">>Probability of getting 1\n",
    ">>1/6.\n",
    ">>Probability of getting 2\n",
    ">>1/6.\n",
    "\"\"\""
   ]
  },
  {
   "cell_type": "code",
   "execution_count": 10,
   "id": "f2ecac5a-b99b-4480-9fee-f927a99dacba",
   "metadata": {},
   "outputs": [
    {
     "data": {
      "text/plain": [
       "'\\n>>Rolling a Die;\\nOutcome|Probability;\\n1       1/6\\n2       1/6\\n3       1/6\\n4       1/6\\n5       1/6\\n6       1/6\\n-------------------\\nProbabilty of getting 7 >> Zero;\\n'"
      ]
     },
     "execution_count": 10,
     "metadata": {},
     "output_type": "execute_result"
    }
   ],
   "source": [
    "\"\"\"\n",
    ">>Rolling a Die;\n",
    "Outcome|Probability;\n",
    "1       1/6\n",
    "2       1/6\n",
    "3       1/6\n",
    "4       1/6\n",
    "5       1/6\n",
    "6       1/6\n",
    "-------------------\n",
    "Probabilty of getting 7 >> Zero;\n",
    "\"\"\""
   ]
  },
  {
   "cell_type": "code",
   "execution_count": 11,
   "id": "3d33bc2f-b2bb-41b6-a362-bd8e809cee6a",
   "metadata": {},
   "outputs": [
    {
     "data": {
      "text/plain": [
       "'=>'"
      ]
     },
     "execution_count": 11,
     "metadata": {},
     "output_type": "execute_result"
    }
   ],
   "source": [
    "\"Sum of The Probabilities = 100% = 1\"\n",
    "\"=>\""
   ]
  },
  {
   "cell_type": "code",
   "execution_count": 12,
   "id": "2ace63c2-e4f2-4713-ae23-fbeaa32d1c0d",
   "metadata": {},
   "outputs": [
    {
     "data": {
      "text/plain": [
       "'Uniform Distribution'"
      ]
     },
     "execution_count": 12,
     "metadata": {},
     "output_type": "execute_result"
    }
   ],
   "source": [
    "\"Uniform Distribution\""
   ]
  },
  {
   "cell_type": "code",
   "execution_count": 13,
   "id": "3d4c254b-d42c-4a48-b16f-739468a3b68f",
   "metadata": {},
   "outputs": [
    {
     "data": {
      "text/plain": [
       "'\\n>>A Distrubution is not a Graph Itself.\\n>>The Graph is Just a Visual Representation.\\n'"
      ]
     },
     "execution_count": 13,
     "metadata": {},
     "output_type": "execute_result"
    }
   ],
   "source": [
    "\"\"\"\n",
    ">>A Distrubution is not a Graph Itself.\n",
    ">>The Graph is Just a Visual Representation.\n",
    "\"\"\""
   ]
  },
  {
   "cell_type": "code",
   "execution_count": 14,
   "id": "8f2d7a7d-cfd5-46fd-acba-17d485543c53",
   "metadata": {},
   "outputs": [
    {
     "data": {
      "text/plain": [
       "'\\nOutcome|Probability;\\n1;2;3  |1/6\\n4;5;6  |1/6\\n-----------\\nAll else:0\\n'"
      ]
     },
     "execution_count": 14,
     "metadata": {},
     "output_type": "execute_result"
    }
   ],
   "source": [
    "\"\"\"\n",
    "Outcome|Probability;\n",
    "1;2;3  |1/6\n",
    "4;5;6  |1/6\n",
    "-----------\n",
    "All else:0\n",
    "\"\"\""
   ]
  },
  {
   "cell_type": "code",
   "execution_count": 15,
   "id": "6a4be053-11aa-42eb-a6b2-e1da3cd016e4",
   "metadata": {},
   "outputs": [
    {
     "data": {
      "text/plain": [
       "'\\nRolling Two Dice;\\n>>Possibilities?>>Total:36;\\n'"
      ]
     },
     "execution_count": 15,
     "metadata": {},
     "output_type": "execute_result"
    }
   ],
   "source": [
    "\"\"\"\n",
    "Rolling Two Dice;\n",
    ">>Possibilities?>>Total:36;\n",
    "\"\"\""
   ]
  },
  {
   "cell_type": "code",
   "execution_count": 16,
   "id": "5ce01369-4a30-421b-9dca-dc500466ac88",
   "metadata": {},
   "outputs": [
    {
     "data": {
      "text/plain": [
       "'\\n>>Rolling Two Dice;\\n>>Probability of getting 1 & 1;\\n>>1/36 or 0.03;\\n'"
      ]
     },
     "execution_count": 16,
     "metadata": {},
     "output_type": "execute_result"
    }
   ],
   "source": [
    "\"\"\"\n",
    ">>Rolling Two Dice;\n",
    ">>Probability of getting 1 & 1;\n",
    ">>1/36 or 0.03;\n",
    "\"\"\""
   ]
  },
  {
   "cell_type": "code",
   "execution_count": 17,
   "id": "3c11701f-2a10-431d-835b-90c445ae6958",
   "metadata": {},
   "outputs": [
    {
     "data": {
      "text/plain": [
       "'\\n>>Probability of getting (1,2) and (2,1)\\n>>2/36;\\n'"
      ]
     },
     "execution_count": 17,
     "metadata": {},
     "output_type": "execute_result"
    }
   ],
   "source": [
    "\"\"\"\n",
    ">>Probability of getting (1,2) and (2,1)\n",
    ">>2/36;\n",
    "\"\"\""
   ]
  },
  {
   "cell_type": "code",
   "execution_count": 18,
   "id": "925c1f3f-b8d3-43c2-9130-85c9ee4595d4",
   "metadata": {},
   "outputs": [
    {
     "data": {
      "text/plain": [
       "'3.The Normal Distribution'"
      ]
     },
     "execution_count": 18,
     "metadata": {},
     "output_type": "execute_result"
    }
   ],
   "source": [
    "\"3.The Normal Distribution\""
   ]
  },
  {
   "cell_type": "code",
   "execution_count": 19,
   "id": "13066f93-3621-4f30-afd6-d11a6bc10b39",
   "metadata": {},
   "outputs": [
    {
     "data": {
      "text/plain": [
       "'The Distribution of a Dataset'"
      ]
     },
     "execution_count": 19,
     "metadata": {},
     "output_type": "execute_result"
    }
   ],
   "source": [
    "\"The Distribution of a Dataset\""
   ]
  },
  {
   "cell_type": "code",
   "execution_count": 21,
   "id": "d9fc5dad-2763-4d25-888a-b31e1cf50010",
   "metadata": {},
   "outputs": [
    {
     "data": {
      "text/plain": [
       "'\\nNormal Distribution;\\nGaussian Distribution;\\n>>mean = median = mode<<\\n>>no skew<<\\n'"
      ]
     },
     "execution_count": 21,
     "metadata": {},
     "output_type": "execute_result"
    }
   ],
   "source": [
    "\"\"\"\n",
    "Normal Distribution;\n",
    "Gaussian Distribution;\n",
    ">>mean = median = mode<<\n",
    ">>no skew<<\n",
    "\"\"\""
   ]
  },
  {
   "cell_type": "code",
   "execution_count": 22,
   "id": "4e7b8ecc-1688-4721-8227-3f8bd39fd43c",
   "metadata": {},
   "outputs": [
    {
     "data": {
      "text/plain": [
       "'\\n>>Normal-Distribution<< \\nNormal---->N~(M,Opower2);\\nDistribution>>~\\nMean>>M\\nVariance>>O2\\n'"
      ]
     },
     "execution_count": 22,
     "metadata": {},
     "output_type": "execute_result"
    }
   ],
   "source": [
    "\"\"\"\n",
    ">>Normal-Distribution<< \n",
    "Normal---->N~(M,Opower2);\n",
    "Distribution>>~\n",
    "Mean>>M\n",
    "Variance>>O2\n",
    "\"\"\""
   ]
  },
  {
   "cell_type": "code",
   "execution_count": 23,
   "id": "76cf9aad-fc93-46f3-ae71-a4adce9e3a8d",
   "metadata": {},
   "outputs": [
    {
     "data": {
      "text/plain": [
       "'Normal Distribution  mean=median=mode'"
      ]
     },
     "execution_count": 23,
     "metadata": {},
     "output_type": "execute_result"
    }
   ],
   "source": [
    "\"Normal Distribution  mean=median=mode\""
   ]
  },
  {
   "cell_type": "code",
   "execution_count": 24,
   "id": "7880cc33-fa01-453a-ba58-5dfa13a63239",
   "metadata": {},
   "outputs": [
    {
     "data": {
      "text/plain": [
       "'ND>>Controlling for standard deviation.'"
      ]
     },
     "execution_count": 24,
     "metadata": {},
     "output_type": "execute_result"
    }
   ],
   "source": [
    "\"ND>>Controlling for standard deviation.\""
   ]
  },
  {
   "cell_type": "code",
   "execution_count": 25,
   "id": "0a7a4cec-b303-4543-a1ee-5519579c265c",
   "metadata": {},
   "outputs": [
    {
     "data": {
      "text/plain": [
       "'4.The Standard Normal Distribution.'"
      ]
     },
     "execution_count": 25,
     "metadata": {},
     "output_type": "execute_result"
    }
   ],
   "source": [
    "\"4.The Standard Normal Distribution.\""
   ]
  },
  {
   "cell_type": "code",
   "execution_count": 26,
   "id": "daf29f70-2340-4a36-8f7e-9e97a9f7a55c",
   "metadata": {},
   "outputs": [
    {
     "data": {
      "text/plain": [
       "'\\n>>Standar_di_zation;\\n~(M,Opower2)------>~(0,1)\\nx-M/O\\n'"
      ]
     },
     "execution_count": 26,
     "metadata": {},
     "output_type": "execute_result"
    }
   ],
   "source": [
    "\"\"\"\n",
    ">>Standar_di_zation;\n",
    "~(M,Opower2)------>~(0,1)\n",
    "x-M/O\n",
    "\"\"\""
   ]
  },
  {
   "cell_type": "code",
   "execution_count": 27,
   "id": "c834cd69-b98c-40fe-b9a8-a9f3b781a610",
   "metadata": {},
   "outputs": [
    {
     "data": {
      "text/plain": [
       "'z = x - M / O'"
      ]
     },
     "execution_count": 27,
     "metadata": {},
     "output_type": "execute_result"
    }
   ],
   "source": [
    "\"z = x - M / O\""
   ]
  },
  {
   "cell_type": "code",
   "execution_count": 28,
   "id": "fc208a92-064a-491f-a51a-3e230f163795",
   "metadata": {},
   "outputs": [
    {
     "data": {
      "text/plain": [
       "'\\nStandarization z = X - M / O.\\n'"
      ]
     },
     "execution_count": 28,
     "metadata": {},
     "output_type": "execute_result"
    }
   ],
   "source": [
    "\"\"\"\n",
    "Standarization z = X - M / O.\n",
    "\"\"\""
   ]
  },
  {
   "cell_type": "code",
   "execution_count": 31,
   "id": "9f174072-d747-4286-b294-8ee14d3a2e94",
   "metadata": {},
   "outputs": [
    {
     "data": {
      "text/plain": [
       "'\\n>>Central Limit Theorem<<\\n>>Population of Used Cars in a Car Shop<<\\n>>M,Ox,Oxy;\\n'"
      ]
     },
     "execution_count": 31,
     "metadata": {},
     "output_type": "execute_result"
    }
   ],
   "source": [
    "\"\"\"\n",
    ">>Central Limit Theorem<<\n",
    ">>Population of Used Cars in a Car Shop<<\n",
    ">>M,Ox,Oxy;\n",
    "\"\"\""
   ]
  },
  {
   "cell_type": "code",
   "execution_count": 33,
   "id": "7fcefab2-f714-48e3-9d58-91f6400df313",
   "metadata": {},
   "outputs": [
    {
     "data": {
      "text/plain": [
       "'\\nThe Mean=2,617.23\\nSample Distribution of the mean;\\nM = $2800.\\n'"
      ]
     },
     "execution_count": 33,
     "metadata": {},
     "output_type": "execute_result"
    }
   ],
   "source": [
    "\"\"\"\n",
    "The Mean=2,617.23\n",
    "Sample Distribution of the mean;\n",
    "M = $2800.\n",
    "\"\"\""
   ]
  },
  {
   "cell_type": "code",
   "execution_count": 34,
   "id": "0e193d12-ca2c-4593-a28f-ac3844d7eee0",
   "metadata": {},
   "outputs": [
    {
     "data": {
      "text/plain": [
       "'Standard error'"
      ]
     },
     "execution_count": 34,
     "metadata": {},
     "output_type": "execute_result"
    }
   ],
   "source": [
    "\"Standard error\""
   ]
  },
  {
   "cell_type": "code",
   "execution_count": 36,
   "id": "03d59e26-1c40-414c-9040-006cc36a008e",
   "metadata": {},
   "outputs": [
    {
     "data": {
      "text/plain": [
       "'7. Estimators and Estimates'"
      ]
     },
     "execution_count": 36,
     "metadata": {},
     "output_type": "execute_result"
    }
   ],
   "source": [
    "\"7. Estimators and Estimates\""
   ]
  },
  {
   "cell_type": "code",
   "execution_count": 38,
   "id": "2d544250-ae33-4160-ab5c-762831c30c6f",
   "metadata": {},
   "outputs": [
    {
     "data": {
      "text/plain": [
       "'End of Descriptive-statistics And Inferential-statistics;'"
      ]
     },
     "execution_count": 38,
     "metadata": {},
     "output_type": "execute_result"
    }
   ],
   "source": [
    "\"End of Descriptive-statistics And Inferential-statistics;\""
   ]
  },
  {
   "cell_type": "code",
   "execution_count": null,
   "id": "3b6d530a-7a07-4702-8986-2fdd11e2463e",
   "metadata": {},
   "outputs": [],
   "source": []
  }
 ],
 "metadata": {
  "kernelspec": {
   "display_name": "Python 3 (ipykernel)",
   "language": "python",
   "name": "python3"
  },
  "language_info": {
   "codemirror_mode": {
    "name": "ipython",
    "version": 3
   },
   "file_extension": ".py",
   "mimetype": "text/x-python",
   "name": "python",
   "nbconvert_exporter": "python",
   "pygments_lexer": "ipython3",
   "version": "3.11.7"
  }
 },
 "nbformat": 4,
 "nbformat_minor": 5
}
