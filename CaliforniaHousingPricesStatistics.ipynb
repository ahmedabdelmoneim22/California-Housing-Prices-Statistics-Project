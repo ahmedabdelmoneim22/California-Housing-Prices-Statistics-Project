{
 "cells": [
  {
   "cell_type": "code",
   "execution_count": 1,
   "id": "83c69d64-141a-4c97-ba35-73478b8301dd",
   "metadata": {},
   "outputs": [
    {
     "name": "stdout",
     "output_type": "stream",
     "text": [
      "California Housing Prices Statistics Project\n"
     ]
    }
   ],
   "source": [
    "print(\"California Housing Prices Statistics Project\")"
   ]
  },
  {
   "cell_type": "code",
   "execution_count": 3,
   "id": "661aa3f6-70d5-4a35-a93e-85b83715040f",
   "metadata": {},
   "outputs": [],
   "source": [
    "import pandas as pd"
   ]
  },
  {
   "cell_type": "code",
   "execution_count": 4,
   "id": "80fd17b6-75c4-4798-b54d-7019e19ab45b",
   "metadata": {},
   "outputs": [],
   "source": [
    "data_Frame = pd.read_csv(\"California Housing Prices.csv\")"
   ]
  },
  {
   "cell_type": "code",
   "execution_count": 4,
   "id": "f705149e-7d79-4a77-b308-0a589f7896c8",
   "metadata": {},
   "outputs": [
    {
     "data": {
      "text/html": [
       "<div>\n",
       "<style scoped>\n",
       "    .dataframe tbody tr th:only-of-type {\n",
       "        vertical-align: middle;\n",
       "    }\n",
       "\n",
       "    .dataframe tbody tr th {\n",
       "        vertical-align: top;\n",
       "    }\n",
       "\n",
       "    .dataframe thead th {\n",
       "        text-align: right;\n",
       "    }\n",
       "</style>\n",
       "<table border=\"1\" class=\"dataframe\">\n",
       "  <thead>\n",
       "    <tr style=\"text-align: right;\">\n",
       "      <th></th>\n",
       "      <th>price</th>\n",
       "      <th>area</th>\n",
       "      <th>bedrooms</th>\n",
       "      <th>bathrooms</th>\n",
       "      <th>stories</th>\n",
       "      <th>mainroad</th>\n",
       "      <th>guestroom</th>\n",
       "      <th>basement</th>\n",
       "      <th>hotwaterheating</th>\n",
       "      <th>airconditioning</th>\n",
       "      <th>parking</th>\n",
       "      <th>prefarea</th>\n",
       "      <th>furnishingstatus</th>\n",
       "    </tr>\n",
       "  </thead>\n",
       "  <tbody>\n",
       "    <tr>\n",
       "      <th>0</th>\n",
       "      <td>13300000</td>\n",
       "      <td>7420</td>\n",
       "      <td>4</td>\n",
       "      <td>2</td>\n",
       "      <td>3</td>\n",
       "      <td>yes</td>\n",
       "      <td>no</td>\n",
       "      <td>no</td>\n",
       "      <td>no</td>\n",
       "      <td>yes</td>\n",
       "      <td>2</td>\n",
       "      <td>yes</td>\n",
       "      <td>furnished</td>\n",
       "    </tr>\n",
       "    <tr>\n",
       "      <th>1</th>\n",
       "      <td>12250000</td>\n",
       "      <td>8960</td>\n",
       "      <td>4</td>\n",
       "      <td>4</td>\n",
       "      <td>4</td>\n",
       "      <td>yes</td>\n",
       "      <td>no</td>\n",
       "      <td>no</td>\n",
       "      <td>no</td>\n",
       "      <td>yes</td>\n",
       "      <td>3</td>\n",
       "      <td>no</td>\n",
       "      <td>furnished</td>\n",
       "    </tr>\n",
       "    <tr>\n",
       "      <th>2</th>\n",
       "      <td>12250000</td>\n",
       "      <td>9960</td>\n",
       "      <td>3</td>\n",
       "      <td>2</td>\n",
       "      <td>2</td>\n",
       "      <td>yes</td>\n",
       "      <td>no</td>\n",
       "      <td>yes</td>\n",
       "      <td>no</td>\n",
       "      <td>no</td>\n",
       "      <td>2</td>\n",
       "      <td>yes</td>\n",
       "      <td>semi-furnished</td>\n",
       "    </tr>\n",
       "    <tr>\n",
       "      <th>3</th>\n",
       "      <td>12215000</td>\n",
       "      <td>7500</td>\n",
       "      <td>4</td>\n",
       "      <td>2</td>\n",
       "      <td>2</td>\n",
       "      <td>yes</td>\n",
       "      <td>no</td>\n",
       "      <td>yes</td>\n",
       "      <td>no</td>\n",
       "      <td>yes</td>\n",
       "      <td>3</td>\n",
       "      <td>yes</td>\n",
       "      <td>furnished</td>\n",
       "    </tr>\n",
       "    <tr>\n",
       "      <th>4</th>\n",
       "      <td>11410000</td>\n",
       "      <td>7420</td>\n",
       "      <td>4</td>\n",
       "      <td>1</td>\n",
       "      <td>2</td>\n",
       "      <td>yes</td>\n",
       "      <td>yes</td>\n",
       "      <td>yes</td>\n",
       "      <td>no</td>\n",
       "      <td>yes</td>\n",
       "      <td>2</td>\n",
       "      <td>no</td>\n",
       "      <td>furnished</td>\n",
       "    </tr>\n",
       "  </tbody>\n",
       "</table>\n",
       "</div>"
      ],
      "text/plain": [
       "      price  area  bedrooms  bathrooms  stories mainroad guestroom basement  \\\n",
       "0  13300000  7420         4          2        3      yes        no       no   \n",
       "1  12250000  8960         4          4        4      yes        no       no   \n",
       "2  12250000  9960         3          2        2      yes        no      yes   \n",
       "3  12215000  7500         4          2        2      yes        no      yes   \n",
       "4  11410000  7420         4          1        2      yes       yes      yes   \n",
       "\n",
       "  hotwaterheating airconditioning  parking prefarea furnishingstatus  \n",
       "0              no             yes        2      yes        furnished  \n",
       "1              no             yes        3       no        furnished  \n",
       "2              no              no        2      yes   semi-furnished  \n",
       "3              no             yes        3      yes        furnished  \n",
       "4              no             yes        2       no        furnished  "
      ]
     },
     "execution_count": 4,
     "metadata": {},
     "output_type": "execute_result"
    }
   ],
   "source": [
    "data_Frame.head()"
   ]
  },
  {
   "cell_type": "code",
   "execution_count": 5,
   "id": "b01397d3-723e-4b1e-8927-46c82be33573",
   "metadata": {},
   "outputs": [
    {
     "name": "stdout",
     "output_type": "stream",
     "text": [
      "I will make Statistics Calculations\n"
     ]
    }
   ],
   "source": [
    "print(\"I will make Statistics Calculations\")"
   ]
  },
  {
   "cell_type": "code",
   "execution_count": 9,
   "id": "fb32111a-d51d-4448-bebd-3f87516f82e9",
   "metadata": {},
   "outputs": [
    {
     "name": "stdout",
     "output_type": "stream",
     "text": [
      "The Mean is The Average of all of the Numbers.\n",
      "The Mean of the Price is 4766729.247706422\n"
     ]
    }
   ],
   "source": [
    "print(\"The Mean is The Average of all of the Numbers.\")\n",
    "print(\"The Mean of the Price is\",data_Frame['price'].mean())"
   ]
  },
  {
   "cell_type": "code",
   "execution_count": 23,
   "id": "ac1f408b-dd99-4330-aac3-1a88a6cc9e0d",
   "metadata": {},
   "outputs": [],
   "source": [
    "import statistics\n",
    "The_Mean_Of_Price = statistics.mean(data_Frame['price'])"
   ]
  },
  {
   "cell_type": "code",
   "execution_count": 11,
   "id": "61463b75-3132-4116-9841-93dc83ede3ce",
   "metadata": {},
   "outputs": [
    {
     "name": "stdout",
     "output_type": "stream",
     "text": [
      "4766729.247706422\n"
     ]
    }
   ],
   "source": [
    "print(The_Mean_Of_Price)"
   ]
  },
  {
   "cell_type": "code",
   "execution_count": 14,
   "id": "e3829193-f9e1-42c4-884e-3f9137fb5ab6",
   "metadata": {},
   "outputs": [
    {
     "name": "stdout",
     "output_type": "stream",
     "text": [
      "value_counts()>>Count The number of Occurrences of each Unique Value Object<<\n",
      "bedrooms\n",
      "3    300\n",
      "2    136\n",
      "4     95\n",
      "5     10\n",
      "6      2\n",
      "1      2\n",
      "Name: count, dtype: int64\n"
     ]
    }
   ],
   "source": [
    "print(\"value_counts()>>Count The number of Occurrences of each Unique Value Object<<\")\n",
    "print(data_Frame['bedrooms'].value_counts())"
   ]
  },
  {
   "cell_type": "code",
   "execution_count": 16,
   "id": "92239f33-6ca1-47f0-ab08-6d09a45f7aba",
   "metadata": {},
   "outputs": [
    {
     "name": "stdout",
     "output_type": "stream",
     "text": [
      "bathrooms\n",
      "1    401\n",
      "2    133\n",
      "3     10\n",
      "4      1\n",
      "Name: count, dtype: int64\n"
     ]
    }
   ],
   "source": [
    "print(data_Frame['bathrooms'].value_counts())"
   ]
  },
  {
   "cell_type": "code",
   "execution_count": 20,
   "id": "609f879f-70a7-46b2-b3ce-631c4b93afa3",
   "metadata": {},
   "outputs": [
    {
     "name": "stdout",
     "output_type": "stream",
     "text": [
      "401\n"
     ]
    }
   ],
   "source": [
    "print(data_Frame['bathrooms'].value_counts().iloc[0])"
   ]
  },
  {
   "cell_type": "code",
   "execution_count": 21,
   "id": "e1969569-1c0a-4d60-acae-5c6b2bf97df8",
   "metadata": {},
   "outputs": [
    {
     "name": "stdout",
     "output_type": "stream",
     "text": [
      "401\n"
     ]
    }
   ],
   "source": [
    "print(data_Frame['bathrooms'].value_counts().loc[1])"
   ]
  },
  {
   "cell_type": "code",
   "execution_count": 22,
   "id": "f2083f04-3574-4594-b0de-4e59bc940da8",
   "metadata": {},
   "outputs": [
    {
     "name": "stdout",
     "output_type": "stream",
     "text": [
      "bathrooms\n",
      "1    401\n",
      "2    133\n",
      "3     10\n",
      "4      1\n",
      "Name: count, dtype: int64\n"
     ]
    }
   ],
   "source": [
    "print(data_Frame['bathrooms'].value_counts().iloc[0:])"
   ]
  },
  {
   "cell_type": "code",
   "execution_count": 29,
   "id": "9162c8c6-5883-4724-839d-d5628df8dd1e",
   "metadata": {},
   "outputs": [],
   "source": [
    "The_Mean_Of_Area = statistics.mean(data_Frame['area'])"
   ]
  },
  {
   "cell_type": "code",
   "execution_count": 30,
   "id": "3e173d76-5db4-48eb-a434-5990cd972200",
   "metadata": {},
   "outputs": [
    {
     "name": "stdout",
     "output_type": "stream",
     "text": [
      "5150.54128440367\n"
     ]
    }
   ],
   "source": [
    "print(The_Mean_Of_Area)"
   ]
  },
  {
   "cell_type": "code",
   "execution_count": 49,
   "id": "7b55694b-576f-445a-bb52-53bfcc8c00be",
   "metadata": {},
   "outputs": [
    {
     "name": "stdout",
     "output_type": "stream",
     "text": [
      "The Median is the Middle Value in a set of Data.\n"
     ]
    }
   ],
   "source": [
    "print(\"The Median is the Middle Value in a set of Data.\")\n",
    "The_Median_Of_Price = statistics.median(data_Frame['price'])"
   ]
  },
  {
   "cell_type": "code",
   "execution_count": 42,
   "id": "6d9b0db8-2c1a-4a76-9e68-a30939513795",
   "metadata": {},
   "outputs": [
    {
     "name": "stdout",
     "output_type": "stream",
     "text": [
      "4340000\n"
     ]
    }
   ],
   "source": [
    "print(The_Median_Of_Price)"
   ]
  },
  {
   "cell_type": "code",
   "execution_count": 98,
   "id": "8d81e502-1841-4d65-bb98-14cac8f404c7",
   "metadata": {},
   "outputs": [],
   "source": [
    "The_Median_Of_Area = statistics.median(data_Frame['area'])"
   ]
  },
  {
   "cell_type": "code",
   "execution_count": 44,
   "id": "a9678484-f22f-4b41-acb8-07e131bc4617",
   "metadata": {},
   "outputs": [
    {
     "name": "stdout",
     "output_type": "stream",
     "text": [
      "4600\n"
     ]
    }
   ],
   "source": [
    "print(The_Median_Of_Area)"
   ]
  },
  {
   "cell_type": "code",
   "execution_count": 45,
   "id": "111a8a2e-0579-4f6d-a5fb-6ca7e7f5926b",
   "metadata": {},
   "outputs": [
    {
     "name": "stdout",
     "output_type": "stream",
     "text": [
      "Object Value counts\n",
      "furnishingstatus\n",
      "semi-furnished    227\n",
      "unfurnished       178\n",
      "furnished         140\n",
      "Name: count, dtype: int64\n"
     ]
    }
   ],
   "source": [
    "print(\"Object Value counts\")\n",
    "print(data_Frame['furnishingstatus'].value_counts())"
   ]
  },
  {
   "cell_type": "code",
   "execution_count": 58,
   "id": "ae901676-faf9-455a-aea5-d8866ad5e4fa",
   "metadata": {},
   "outputs": [
    {
     "name": "stdout",
     "output_type": "stream",
     "text": [
      "The Mode is the most common number that Appears in your set of Data.\n"
     ]
    }
   ],
   "source": [
    "print(\"The Mode is the most common number that Appears in your set of Data.\")\n",
    "The_Mode_Of_Price = statistics.mode(data_Frame['price'])"
   ]
  },
  {
   "cell_type": "code",
   "execution_count": 59,
   "id": "65da4537-8894-45cf-9d05-4bc38a5417f3",
   "metadata": {},
   "outputs": [
    {
     "data": {
      "text/plain": [
       "4200000"
      ]
     },
     "execution_count": 59,
     "metadata": {},
     "output_type": "execute_result"
    }
   ],
   "source": [
    "The_Mode_Of_Price"
   ]
  },
  {
   "cell_type": "code",
   "execution_count": 60,
   "id": "fc904ac1-fe5f-4f4b-bb24-cb8ad4ca87e1",
   "metadata": {},
   "outputs": [],
   "source": [
    "The_Mode_Of_Area = statistics.mode(data_Frame['area'])"
   ]
  },
  {
   "cell_type": "code",
   "execution_count": 61,
   "id": "dbf04966-2668-4ed6-82fe-09c3dd51e15e",
   "metadata": {},
   "outputs": [
    {
     "data": {
      "text/plain": [
       "6000"
      ]
     },
     "execution_count": 61,
     "metadata": {},
     "output_type": "execute_result"
    }
   ],
   "source": [
    "The_Mode_Of_Area"
   ]
  },
  {
   "cell_type": "code",
   "execution_count": 62,
   "id": "bb928df0-6dbd-4775-903f-170fbeccf9a4",
   "metadata": {},
   "outputs": [
    {
     "data": {
      "text/html": [
       "<div>\n",
       "<style scoped>\n",
       "    .dataframe tbody tr th:only-of-type {\n",
       "        vertical-align: middle;\n",
       "    }\n",
       "\n",
       "    .dataframe tbody tr th {\n",
       "        vertical-align: top;\n",
       "    }\n",
       "\n",
       "    .dataframe thead th {\n",
       "        text-align: right;\n",
       "    }\n",
       "</style>\n",
       "<table border=\"1\" class=\"dataframe\">\n",
       "  <thead>\n",
       "    <tr style=\"text-align: right;\">\n",
       "      <th></th>\n",
       "      <th>price</th>\n",
       "      <th>area</th>\n",
       "      <th>bedrooms</th>\n",
       "      <th>bathrooms</th>\n",
       "      <th>stories</th>\n",
       "      <th>mainroad</th>\n",
       "      <th>guestroom</th>\n",
       "      <th>basement</th>\n",
       "      <th>hotwaterheating</th>\n",
       "      <th>airconditioning</th>\n",
       "      <th>parking</th>\n",
       "      <th>prefarea</th>\n",
       "      <th>furnishingstatus</th>\n",
       "    </tr>\n",
       "  </thead>\n",
       "  <tbody>\n",
       "    <tr>\n",
       "      <th>0</th>\n",
       "      <td>13300000</td>\n",
       "      <td>7420</td>\n",
       "      <td>4</td>\n",
       "      <td>2</td>\n",
       "      <td>3</td>\n",
       "      <td>yes</td>\n",
       "      <td>no</td>\n",
       "      <td>no</td>\n",
       "      <td>no</td>\n",
       "      <td>yes</td>\n",
       "      <td>2</td>\n",
       "      <td>yes</td>\n",
       "      <td>furnished</td>\n",
       "    </tr>\n",
       "    <tr>\n",
       "      <th>1</th>\n",
       "      <td>12250000</td>\n",
       "      <td>8960</td>\n",
       "      <td>4</td>\n",
       "      <td>4</td>\n",
       "      <td>4</td>\n",
       "      <td>yes</td>\n",
       "      <td>no</td>\n",
       "      <td>no</td>\n",
       "      <td>no</td>\n",
       "      <td>yes</td>\n",
       "      <td>3</td>\n",
       "      <td>no</td>\n",
       "      <td>furnished</td>\n",
       "    </tr>\n",
       "    <tr>\n",
       "      <th>2</th>\n",
       "      <td>12250000</td>\n",
       "      <td>9960</td>\n",
       "      <td>3</td>\n",
       "      <td>2</td>\n",
       "      <td>2</td>\n",
       "      <td>yes</td>\n",
       "      <td>no</td>\n",
       "      <td>yes</td>\n",
       "      <td>no</td>\n",
       "      <td>no</td>\n",
       "      <td>2</td>\n",
       "      <td>yes</td>\n",
       "      <td>semi-furnished</td>\n",
       "    </tr>\n",
       "    <tr>\n",
       "      <th>3</th>\n",
       "      <td>12215000</td>\n",
       "      <td>7500</td>\n",
       "      <td>4</td>\n",
       "      <td>2</td>\n",
       "      <td>2</td>\n",
       "      <td>yes</td>\n",
       "      <td>no</td>\n",
       "      <td>yes</td>\n",
       "      <td>no</td>\n",
       "      <td>yes</td>\n",
       "      <td>3</td>\n",
       "      <td>yes</td>\n",
       "      <td>furnished</td>\n",
       "    </tr>\n",
       "    <tr>\n",
       "      <th>4</th>\n",
       "      <td>11410000</td>\n",
       "      <td>7420</td>\n",
       "      <td>4</td>\n",
       "      <td>1</td>\n",
       "      <td>2</td>\n",
       "      <td>yes</td>\n",
       "      <td>yes</td>\n",
       "      <td>yes</td>\n",
       "      <td>no</td>\n",
       "      <td>yes</td>\n",
       "      <td>2</td>\n",
       "      <td>no</td>\n",
       "      <td>furnished</td>\n",
       "    </tr>\n",
       "  </tbody>\n",
       "</table>\n",
       "</div>"
      ],
      "text/plain": [
       "      price  area  bedrooms  bathrooms  stories mainroad guestroom basement  \\\n",
       "0  13300000  7420         4          2        3      yes        no       no   \n",
       "1  12250000  8960         4          4        4      yes        no       no   \n",
       "2  12250000  9960         3          2        2      yes        no      yes   \n",
       "3  12215000  7500         4          2        2      yes        no      yes   \n",
       "4  11410000  7420         4          1        2      yes       yes      yes   \n",
       "\n",
       "  hotwaterheating airconditioning  parking prefarea furnishingstatus  \n",
       "0              no             yes        2      yes        furnished  \n",
       "1              no             yes        3       no        furnished  \n",
       "2              no              no        2      yes   semi-furnished  \n",
       "3              no             yes        3      yes        furnished  \n",
       "4              no             yes        2       no        furnished  "
      ]
     },
     "execution_count": 62,
     "metadata": {},
     "output_type": "execute_result"
    }
   ],
   "source": [
    "data_Frame.head()"
   ]
  },
  {
   "cell_type": "code",
   "execution_count": 82,
   "id": "5ef4bf6d-8cc8-43a7-aa6d-9b5ee1840a99",
   "metadata": {},
   "outputs": [
    {
     "name": "stdout",
     "output_type": "stream",
     "text": [
      "                  mean     median           mode\n",
      "bedrooms                                        \n",
      "1         2.712500e+06  2712500.0   (2275000, 1)\n",
      "2         3.632022e+06  3535000.0   (2450000, 5)\n",
      "3         4.954598e+06  4620000.0  (4200000, 12)\n",
      "4         5.729758e+06  5250000.0   (5250000, 4)\n",
      "5         5.819800e+06  5582500.0   (1960000, 1)\n",
      "6         4.791500e+06  4791500.0   (3500000, 1)\n"
     ]
    },
    {
     "name": "stderr",
     "output_type": "stream",
     "text": [
      "C:\\Users\\ahmed\\AppData\\Local\\Temp\\ipykernel_5104\\1964195382.py:3: FutureWarning: The provided callable <function mean at 0x000001EFAF08BEC0> is currently using SeriesGroupBy.mean. In a future version of pandas, the provided callable will be used directly. To keep current behavior pass the string \"mean\" instead.\n",
      "  print(data_Frame.groupby('bedrooms')['price'].agg([np.mean,np.median,stats.mode]))\n",
      "C:\\Users\\ahmed\\AppData\\Local\\Temp\\ipykernel_5104\\1964195382.py:3: FutureWarning: The provided callable <function median at 0x000001EFAF21B9C0> is currently using SeriesGroupBy.median. In a future version of pandas, the provided callable will be used directly. To keep current behavior pass the string \"median\" instead.\n",
      "  print(data_Frame.groupby('bedrooms')['price'].agg([np.mean,np.median,stats.mode]))\n"
     ]
    }
   ],
   "source": [
    "import numpy as np\n",
    "from scipy import stats\n",
    "print(data_Frame.groupby('bedrooms')['price'].agg([np.mean,np.median,stats.mode]))"
   ]
  },
  {
   "cell_type": "code",
   "execution_count": 83,
   "id": "b525a994-9c53-4f1d-8e3a-adb91bcdd32b",
   "metadata": {},
   "outputs": [
    {
     "name": "stdout",
     "output_type": "stream",
     "text": [
      "               price     area  bathrooms  stories  parking\n",
      "bedrooms                                                  \n",
      "1            5425000     7420          2        2        0\n",
      "2          493955000   630528        144      159       67\n",
      "3         1486379440  1567986        380      580      217\n",
      "4          544327000   530296        154      219       87\n",
      "5           58198000    62915         18       20        6\n",
      "6            9583000     7900          3        4        1\n"
     ]
    }
   ],
   "source": [
    "print(data_Frame.groupby('bedrooms').sum(['price']))"
   ]
  },
  {
   "cell_type": "code",
   "execution_count": 84,
   "id": "4c57e162-0303-4055-a67e-b3ecf6529752",
   "metadata": {},
   "outputs": [
    {
     "name": "stdout",
     "output_type": "stream",
     "text": [
      "                 price         area  bathrooms   stories   parking\n",
      "bedrooms                                                          \n",
      "1         2.712500e+06  3710.000000   1.000000  1.000000  0.000000\n",
      "2         3.632022e+06  4636.235294   1.058824  1.169118  0.492647\n",
      "3         4.954598e+06  5226.620000   1.266667  1.933333  0.723333\n",
      "4         5.729758e+06  5582.063158   1.621053  2.305263  0.915789\n",
      "5         5.819800e+06  6291.500000   1.800000  2.000000  0.600000\n",
      "6         4.791500e+06  3950.000000   1.500000  2.000000  0.500000\n"
     ]
    }
   ],
   "source": [
    "print(data_Frame.groupby('bedrooms').mean(['price']))"
   ]
  },
  {
   "cell_type": "code",
   "execution_count": 85,
   "id": "127f4fe7-f42f-4377-971b-99a216631135",
   "metadata": {},
   "outputs": [
    {
     "name": "stdout",
     "output_type": "stream",
     "text": [
      "              price    area  bathrooms  stories  parking\n",
      "bedrooms                                                \n",
      "1         2712500.0  3710.0        1.0      1.0      0.0\n",
      "2         3535000.0  4036.0        1.0      1.0      0.0\n",
      "3         4620000.0  4830.0        1.0      2.0      0.0\n",
      "4         5250000.0  5400.0        2.0      2.0      1.0\n",
      "5         5582500.0  5350.0        2.0      2.0      0.0\n",
      "6         4791500.0  3950.0        1.5      2.0      0.5\n"
     ]
    }
   ],
   "source": [
    "print(data_Frame.groupby('bedrooms').median(['price']))"
   ]
  },
  {
   "cell_type": "code",
   "execution_count": 102,
   "id": "04020588-df54-4380-a97d-83623cf77e43",
   "metadata": {},
   "outputs": [
    {
     "data": {
      "text/plain": [
       "4200000"
      ]
     },
     "execution_count": 102,
     "metadata": {},
     "output_type": "execute_result"
    }
   ],
   "source": [
    "statistics.mode(data_Frame['price'])"
   ]
  },
  {
   "cell_type": "code",
   "execution_count": 112,
   "id": "7a538025-0bee-4383-87d0-4f5d1d72f56a",
   "metadata": {},
   "outputs": [
    {
     "data": {
      "text/plain": [
       "3150000"
      ]
     },
     "execution_count": 112,
     "metadata": {},
     "output_type": "execute_result"
    }
   ],
   "source": [
    "statistics.mode(data_Frame[(data_Frame['bedrooms']==1)]['price'])"
   ]
  },
  {
   "cell_type": "code",
   "execution_count": 114,
   "id": "6dca1890-f8e5-4e76-b7a0-f9b9deb32b87",
   "metadata": {},
   "outputs": [
    {
     "name": "stdout",
     "output_type": "stream",
     "text": [
      "3150000\n",
      "3500000\n",
      "4200000\n",
      "5250000\n",
      "10150000\n",
      "6083000\n"
     ]
    }
   ],
   "source": [
    "print(statistics.mode(data_Frame[(data_Frame['bedrooms']==1)]['price']))\n",
    "print(statistics.mode(data_Frame[(data_Frame['bedrooms']==2)]['price']))\n",
    "print(statistics.mode(data_Frame[(data_Frame['bedrooms']==3)]['price']))\n",
    "print(statistics.mode(data_Frame[(data_Frame['bedrooms']==4)]['price']))\n",
    "print(statistics.mode(data_Frame[(data_Frame['bedrooms']==5)]['price']))\n",
    "print(statistics.mode(data_Frame[(data_Frame['bedrooms']==6)]['price']))"
   ]
  },
  {
   "cell_type": "code",
   "execution_count": 120,
   "id": "c70378ab-6a09-49b2-914d-d6c851d77160",
   "metadata": {},
   "outputs": [
    {
     "data": {
      "image/png": "[encoded data removed]",
      "text/plain": [
       "<Figure size 640x480 with 1 Axes>"
      ]
     },
     "metadata": {},
     "output_type": "display_data"
    }
   ],
   "source": [
    "import matplotlib.pyplot as plt\n",
    "plt.boxplot(data_Frame['price'])\n",
    "plt.show()"
   ]
  },
  {
   "cell_type": "code",
   "execution_count": 121,
   "id": "7999f98f-3316-4769-802e-bdbbea82e020",
   "metadata": {},
   "outputs": [
    {
     "data": {
      "text/plain": [
       "2597867440"
      ]
     },
     "execution_count": 121,
     "metadata": {},
     "output_type": "execute_result"
    }
   ],
   "source": [
    "data_Frame['price'].sum()"
   ]
  },
  {
   "cell_type": "code",
   "execution_count": 126,
   "id": "87f3372f-967b-4d7b-9f54-d57d84710bd3",
   "metadata": {},
   "outputs": [
    {
     "name": "stdout",
     "output_type": "stream",
     "text": [
      "Calculating some Statistical Data like Percentile, Mean and Std.\n"
     ]
    },
    {
     "data": {
      "text/plain": [
       "count    5.450000e+02\n",
       "mean     4.766729e+06\n",
       "std      1.870440e+06\n",
       "min      1.750000e+06\n",
       "25%      3.430000e+06\n",
       "50%      4.340000e+06\n",
       "75%      5.740000e+06\n",
       "max      1.330000e+07\n",
       "Name: price, dtype: float64"
      ]
     },
     "execution_count": 126,
     "metadata": {},
     "output_type": "execute_result"
    }
   ],
   "source": [
    "print(\"Calculating some Statistical Data like Percentile, Mean and Std.\")\n",
    "data_Frame['price'].describe()"
   ]
  },
  {
   "cell_type": "code",
   "execution_count": 129,
   "id": "53c22523-8976-4f12-8bd6-9638a47bfed1",
   "metadata": {},
   "outputs": [
    {
     "name": "stdout",
     "output_type": "stream",
     "text": [
      "Calculate Statistical Data For Data Frame\n",
      "Summary-Statistics-Data\n"
     ]
    },
    {
     "data": {
      "text/html": [
       "<div>\n",
       "<style scoped>\n",
       "    .dataframe tbody tr th:only-of-type {\n",
       "        vertical-align: middle;\n",
       "    }\n",
       "\n",
       "    .dataframe tbody tr th {\n",
       "        vertical-align: top;\n",
       "    }\n",
       "\n",
       "    .dataframe thead th {\n",
       "        text-align: right;\n",
       "    }\n",
       "</style>\n",
       "<table border=\"1\" class=\"dataframe\">\n",
       "  <thead>\n",
       "    <tr style=\"text-align: right;\">\n",
       "      <th></th>\n",
       "      <th>price</th>\n",
       "      <th>area</th>\n",
       "      <th>bedrooms</th>\n",
       "      <th>bathrooms</th>\n",
       "      <th>stories</th>\n",
       "      <th>parking</th>\n",
       "    </tr>\n",
       "  </thead>\n",
       "  <tbody>\n",
       "    <tr>\n",
       "      <th>count</th>\n",
       "      <td>5.450000e+02</td>\n",
       "      <td>545.000000</td>\n",
       "      <td>545.000000</td>\n",
       "      <td>545.000000</td>\n",
       "      <td>545.000000</td>\n",
       "      <td>545.000000</td>\n",
       "    </tr>\n",
       "    <tr>\n",
       "      <th>mean</th>\n",
       "      <td>4.766729e+06</td>\n",
       "      <td>5150.541284</td>\n",
       "      <td>2.965138</td>\n",
       "      <td>1.286239</td>\n",
       "      <td>1.805505</td>\n",
       "      <td>0.693578</td>\n",
       "    </tr>\n",
       "    <tr>\n",
       "      <th>std</th>\n",
       "      <td>1.870440e+06</td>\n",
       "      <td>2170.141023</td>\n",
       "      <td>0.738064</td>\n",
       "      <td>0.502470</td>\n",
       "      <td>0.867492</td>\n",
       "      <td>0.861586</td>\n",
       "    </tr>\n",
       "    <tr>\n",
       "      <th>min</th>\n",
       "      <td>1.750000e+06</td>\n",
       "      <td>1650.000000</td>\n",
       "      <td>1.000000</td>\n",
       "      <td>1.000000</td>\n",
       "      <td>1.000000</td>\n",
       "      <td>0.000000</td>\n",
       "    </tr>\n",
       "    <tr>\n",
       "      <th>25%</th>\n",
       "      <td>3.430000e+06</td>\n",
       "      <td>3600.000000</td>\n",
       "      <td>2.000000</td>\n",
       "      <td>1.000000</td>\n",
       "      <td>1.000000</td>\n",
       "      <td>0.000000</td>\n",
       "    </tr>\n",
       "    <tr>\n",
       "      <th>50%</th>\n",
       "      <td>4.340000e+06</td>\n",
       "      <td>4600.000000</td>\n",
       "      <td>3.000000</td>\n",
       "      <td>1.000000</td>\n",
       "      <td>2.000000</td>\n",
       "      <td>0.000000</td>\n",
       "    </tr>\n",
       "    <tr>\n",
       "      <th>75%</th>\n",
       "      <td>5.740000e+06</td>\n",
       "      <td>6360.000000</td>\n",
       "      <td>3.000000</td>\n",
       "      <td>2.000000</td>\n",
       "      <td>2.000000</td>\n",
       "      <td>1.000000</td>\n",
       "    </tr>\n",
       "    <tr>\n",
       "      <th>max</th>\n",
       "      <td>1.330000e+07</td>\n",
       "      <td>16200.000000</td>\n",
       "      <td>6.000000</td>\n",
       "      <td>4.000000</td>\n",
       "      <td>4.000000</td>\n",
       "      <td>3.000000</td>\n",
       "    </tr>\n",
       "  </tbody>\n",
       "</table>\n",
       "</div>"
      ],
      "text/plain": [
       "              price          area    bedrooms   bathrooms     stories  \\\n",
       "count  5.450000e+02    545.000000  545.000000  545.000000  545.000000   \n",
       "mean   4.766729e+06   5150.541284    2.965138    1.286239    1.805505   \n",
       "std    1.870440e+06   2170.141023    0.738064    0.502470    0.867492   \n",
       "min    1.750000e+06   1650.000000    1.000000    1.000000    1.000000   \n",
       "25%    3.430000e+06   3600.000000    2.000000    1.000000    1.000000   \n",
       "50%    4.340000e+06   4600.000000    3.000000    1.000000    2.000000   \n",
       "75%    5.740000e+06   6360.000000    3.000000    2.000000    2.000000   \n",
       "max    1.330000e+07  16200.000000    6.000000    4.000000    4.000000   \n",
       "\n",
       "          parking  \n",
       "count  545.000000  \n",
       "mean     0.693578  \n",
       "std      0.861586  \n",
       "min      0.000000  \n",
       "25%      0.000000  \n",
       "50%      0.000000  \n",
       "75%      1.000000  \n",
       "max      3.000000  "
      ]
     },
     "execution_count": 129,
     "metadata": {},
     "output_type": "execute_result"
    }
   ],
   "source": [
    "print(\"Calculate Statistical Data For Data Frame\")\n",
    "print(\"Summary-Statistics-Data\")\n",
    "data_Frame.describe()"
   ]
  },
  {
   "cell_type": "code",
   "execution_count": 130,
   "id": "8a181188-7535-4d8b-bdc7-d4fa5bd9c143",
   "metadata": {},
   "outputs": [
    {
     "name": "stdout",
     "output_type": "stream",
     "text": [
      "Interquartile range\n"
     ]
    }
   ],
   "source": [
    "print(\"Interquartile range\")"
   ]
  },
  {
   "cell_type": "code",
   "execution_count": 133,
   "id": "c0f40ab6-7a0f-4ed5-bcf7-293af270360e",
   "metadata": {},
   "outputs": [
    {
     "name": "stdout",
     "output_type": "stream",
     "text": [
      "Calculate Measures of spread,which is The Spread of the Data.\n"
     ]
    },
    {
     "data": {
      "text/plain": [
       "2310000.0"
      ]
     },
     "execution_count": 133,
     "metadata": {},
     "output_type": "execute_result"
    }
   ],
   "source": [
    "from scipy.stats import iqr\n",
    "print(\"Calculate Measures of spread,which is The Spread of the Data.\")\n",
    "iqr = iqr(data_Frame['price'])\n",
    "iqr"
   ]
  },
  {
   "cell_type": "code",
   "execution_count": 138,
   "id": "bd187066-4b8f-48a4-a300-ce051c467414",
   "metadata": {},
   "outputs": [
    {
     "data": {
      "image/png": "[encoded data removed]",
      "text/plain": [
       "<Figure size 640x480 with 1 Axes>"
      ]
     },
     "metadata": {},
     "output_type": "display_data"
    }
   ],
   "source": [
    "# Import matplotlib.pyplot with alias plt.\n",
    "import matplotlib.pyplot as plt\n",
    "houses_price = data_Frame['price']\n",
    "# Histogram of co2_emission for rice and show plot\n",
    "plt.hist(houses_price, bins=10, edgecolor='red')\n",
    "plt.xlabel('Values')\n",
    "plt.ylabel('Frequency')\n",
    "plt.title('Histogram of House Price')\n",
    "plt.show()"
   ]
  },
  {
   "cell_type": "code",
   "execution_count": 45,
   "id": "c0445950-b3f5-46c0-ab92-d9a2740d33e6",
   "metadata": {},
   "outputs": [
    {
     "data": {
      "text/html": [
       "<div>\n",
       "<style scoped>\n",
       "    .dataframe tbody tr th:only-of-type {\n",
       "        vertical-align: middle;\n",
       "    }\n",
       "\n",
       "    .dataframe tbody tr th {\n",
       "        vertical-align: top;\n",
       "    }\n",
       "\n",
       "    .dataframe thead th {\n",
       "        text-align: right;\n",
       "    }\n",
       "</style>\n",
       "<table border=\"1\" class=\"dataframe\">\n",
       "  <thead>\n",
       "    <tr style=\"text-align: right;\">\n",
       "      <th></th>\n",
       "      <th>bedrooms</th>\n",
       "      <th>price</th>\n",
       "    </tr>\n",
       "  </thead>\n",
       "  <tbody>\n",
       "    <tr>\n",
       "      <th>0</th>\n",
       "      <td>1</td>\n",
       "      <td>5425000</td>\n",
       "    </tr>\n",
       "    <tr>\n",
       "      <th>1</th>\n",
       "      <td>2</td>\n",
       "      <td>493955000</td>\n",
       "    </tr>\n",
       "    <tr>\n",
       "      <th>2</th>\n",
       "      <td>3</td>\n",
       "      <td>1486379440</td>\n",
       "    </tr>\n",
       "    <tr>\n",
       "      <th>3</th>\n",
       "      <td>4</td>\n",
       "      <td>544327000</td>\n",
       "    </tr>\n",
       "    <tr>\n",
       "      <th>4</th>\n",
       "      <td>5</td>\n",
       "      <td>58198000</td>\n",
       "    </tr>\n",
       "    <tr>\n",
       "      <th>5</th>\n",
       "      <td>6</td>\n",
       "      <td>9583000</td>\n",
       "    </tr>\n",
       "  </tbody>\n",
       "</table>\n",
       "</div>"
      ],
      "text/plain": [
       "   bedrooms       price\n",
       "0         1     5425000\n",
       "1         2   493955000\n",
       "2         3  1486379440\n",
       "3         4   544327000\n",
       "4         5    58198000\n",
       "5         6     9583000"
      ]
     },
     "execution_count": 45,
     "metadata": {},
     "output_type": "execute_result"
    }
   ],
   "source": [
    "import matplotlib.pyplot as plt\n",
    "f_DF=data_Frame.groupby('bedrooms')['price'].sum().reset_index()\n",
    "f_DF"
   ]
  },
  {
   "cell_type": "code",
   "execution_count": 50,
   "id": "677178c4-4d2b-4870-bf00-48dc90df2468",
   "metadata": {},
   "outputs": [
    {
     "data": {
      "text/html": [
       "<div>\n",
       "<style scoped>\n",
       "    .dataframe tbody tr th:only-of-type {\n",
       "        vertical-align: middle;\n",
       "    }\n",
       "\n",
       "    .dataframe tbody tr th {\n",
       "        vertical-align: top;\n",
       "    }\n",
       "\n",
       "    .dataframe thead th {\n",
       "        text-align: right;\n",
       "    }\n",
       "</style>\n",
       "<table border=\"1\" class=\"dataframe\">\n",
       "  <thead>\n",
       "    <tr style=\"text-align: right;\">\n",
       "      <th></th>\n",
       "      <th>Bedrooms</th>\n",
       "      <th>Price</th>\n",
       "    </tr>\n",
       "  </thead>\n",
       "  <tbody>\n",
       "    <tr>\n",
       "      <th>0</th>\n",
       "      <td>1</td>\n",
       "      <td>5425000</td>\n",
       "    </tr>\n",
       "    <tr>\n",
       "      <th>1</th>\n",
       "      <td>2</td>\n",
       "      <td>493955000</td>\n",
       "    </tr>\n",
       "    <tr>\n",
       "      <th>2</th>\n",
       "      <td>3</td>\n",
       "      <td>1486379440</td>\n",
       "    </tr>\n",
       "    <tr>\n",
       "      <th>3</th>\n",
       "      <td>4</td>\n",
       "      <td>544327000</td>\n",
       "    </tr>\n",
       "    <tr>\n",
       "      <th>4</th>\n",
       "      <td>5</td>\n",
       "      <td>58198000</td>\n",
       "    </tr>\n",
       "    <tr>\n",
       "      <th>5</th>\n",
       "      <td>6</td>\n",
       "      <td>9583000</td>\n",
       "    </tr>\n",
       "  </tbody>\n",
       "</table>\n",
       "</div>"
      ],
      "text/plain": [
       "   Bedrooms       Price\n",
       "0         1     5425000\n",
       "1         2   493955000\n",
       "2         3  1486379440\n",
       "3         4   544327000\n",
       "4         5    58198000\n",
       "5         6     9583000"
      ]
     },
     "execution_count": 50,
     "metadata": {},
     "output_type": "execute_result"
    }
   ],
   "source": [
    "f_DF.columns = ['Bedrooms', 'Price']\n",
    "f_DF"
   ]
  },
  {
   "cell_type": "code",
   "execution_count": 71,
   "id": "186120ac-fc04-4798-9311-c67c256e060d",
   "metadata": {},
   "outputs": [
    {
     "name": "stdout",
     "output_type": "stream",
     "text": [
      "Plot-The-Bar-Chart\n",
      "Plot a Bar Chart showing the Price of each Bedrooms Type.\n"
     ]
    },
    {
     "data": {
      "image/png": "[encoded data removed]",
      "text/plain": [
       "<Figure size 640x480 with 1 Axes>"
      ]
     },
     "metadata": {},
     "output_type": "display_data"
    }
   ],
   "source": [
    "print(\"Plot-The-Bar-Chart\")\n",
    "print(\"Plot a Bar Chart showing the Price of each Bedrooms Type.\")\n",
    "plt.bar(f_DF['Bedrooms'],f_DF['Price'], color='red', edgecolor='blue')\n",
    "plt.title('Compare The Price Of Each Bedrooms Type',color='red')\n",
    "plt.xlabel('Bedroooms Type',color='red')\n",
    "plt.ylabel('Bedroom Type Total Price',color='red')\n",
    "plt.show()#Show The plt bar."
   ]
  },
  {
   "cell_type": "code",
   "execution_count": 84,
   "id": "de95a28f-400f-4d4e-8415-cc992c2e8ed8",
   "metadata": {},
   "outputs": [
    {
     "data": {
      "image/png": "[encoded data removed]",
      "text/plain": [
       "<Figure size 800x800 with 1 Axes>"
      ]
     },
     "metadata": {},
     "output_type": "display_data"
    }
   ],
   "source": [
    "# Create a pie Chart.\n",
    "plt.figure(figsize=(8, 8))\n",
    "plt.pie(f_DF['Price'], labels=f_DF['Bedrooms'], startangle=90)\n",
    "plt.title('Plot Pie Chart showing the Total Price of each Bedrooms Type',color='red')\n",
    "plt.show()"
   ]
  },
  {
   "cell_type": "code",
   "execution_count": 89,
   "id": "17d1949f-5c1c-404e-8516-8540765dce39",
   "metadata": {},
   "outputs": [
    {
     "data": {
      "image/png": "[encoded data removed]",
      "text/plain": [
       "<Figure size 640x480 with 2 Axes>"
      ]
     },
     "metadata": {},
     "output_type": "display_data"
    }
   ],
   "source": [
    "\n",
    "fig, ax1 = plt.subplots()\n",
    "ax1.bar( f_DF['Bedrooms'],f_DF['Price'],color='red')\n",
    "ax1.set_xlabel('Bedrooms',color='red')\n",
    "ax1.set_ylabel('Price$',color='red')\n",
    "ax2 = ax1.twinx()\n",
    "ax2.plot(f_DF['Bedrooms'],f_DF['Price'],color='black')\n",
    "ax2.set_ylabel('Cumulative Percentage',color='red')\n",
    "plt.title('Pareto Diagram Showing The Total Price of each Bedrooms Type',color='red')\n",
    "plt.show()"
   ]
  },
  {
   "cell_type": "code",
   "execution_count": 90,
   "id": "eecaf350-6edd-4db5-8329-8d0b10ba7b36",
   "metadata": {},
   "outputs": [
    {
     "name": "stdout",
     "output_type": "stream",
     "text": [
      "Finished Histogram,Plot The Bar Chart,Plot Pie Chart and Plot Parto Diagram\n"
     ]
    }
   ],
   "source": [
    "print(\"Finished Histogram,Plot The Bar Chart,Plot Pie Chart and Plot Parto Diagram\")"
   ]
  },
  {
   "cell_type": "code",
   "execution_count": 92,
   "id": "3057867c-bb4e-4a8b-9fce-69684f9ae9e6",
   "metadata": {},
   "outputs": [
    {
     "data": {
      "text/plain": [
       "'Measures of Central Tendency'"
      ]
     },
     "execution_count": 92,
     "metadata": {},
     "output_type": "execute_result"
    }
   ],
   "source": [
    "\"Measures of Central Tendency\""
   ]
  },
  {
   "cell_type": "code",
   "execution_count": 93,
   "id": "4764834e-fd64-4a23-a3ed-70224869f689",
   "metadata": {},
   "outputs": [
    {
     "data": {
      "text/plain": [
       "'Mean(), Median(), Mode()'"
      ]
     },
     "execution_count": 93,
     "metadata": {},
     "output_type": "execute_result"
    }
   ],
   "source": [
    "\"Mean(), Median(), Mode()\""
   ]
  },
  {
   "cell_type": "code",
   "execution_count": 6,
   "id": "9cfd0fff-0b8e-4fd8-9671-a8eef08391df",
   "metadata": {},
   "outputs": [
    {
     "data": {
      "text/html": [
       "<div>\n",
       "<style scoped>\n",
       "    .dataframe tbody tr th:only-of-type {\n",
       "        vertical-align: middle;\n",
       "    }\n",
       "\n",
       "    .dataframe tbody tr th {\n",
       "        vertical-align: top;\n",
       "    }\n",
       "\n",
       "    .dataframe thead th {\n",
       "        text-align: right;\n",
       "    }\n",
       "</style>\n",
       "<table border=\"1\" class=\"dataframe\">\n",
       "  <thead>\n",
       "    <tr style=\"text-align: right;\">\n",
       "      <th></th>\n",
       "      <th>price</th>\n",
       "      <th>area</th>\n",
       "      <th>bedrooms</th>\n",
       "      <th>bathrooms</th>\n",
       "      <th>stories</th>\n",
       "      <th>mainroad</th>\n",
       "      <th>guestroom</th>\n",
       "      <th>basement</th>\n",
       "      <th>hotwaterheating</th>\n",
       "      <th>airconditioning</th>\n",
       "      <th>parking</th>\n",
       "      <th>prefarea</th>\n",
       "      <th>furnishingstatus</th>\n",
       "    </tr>\n",
       "  </thead>\n",
       "  <tbody>\n",
       "    <tr>\n",
       "      <th>0</th>\n",
       "      <td>13300000</td>\n",
       "      <td>7420</td>\n",
       "      <td>4</td>\n",
       "      <td>2</td>\n",
       "      <td>3</td>\n",
       "      <td>yes</td>\n",
       "      <td>no</td>\n",
       "      <td>no</td>\n",
       "      <td>no</td>\n",
       "      <td>yes</td>\n",
       "      <td>2</td>\n",
       "      <td>yes</td>\n",
       "      <td>furnished</td>\n",
       "    </tr>\n",
       "    <tr>\n",
       "      <th>1</th>\n",
       "      <td>12250000</td>\n",
       "      <td>8960</td>\n",
       "      <td>4</td>\n",
       "      <td>4</td>\n",
       "      <td>4</td>\n",
       "      <td>yes</td>\n",
       "      <td>no</td>\n",
       "      <td>no</td>\n",
       "      <td>no</td>\n",
       "      <td>yes</td>\n",
       "      <td>3</td>\n",
       "      <td>no</td>\n",
       "      <td>furnished</td>\n",
       "    </tr>\n",
       "    <tr>\n",
       "      <th>2</th>\n",
       "      <td>12250000</td>\n",
       "      <td>9960</td>\n",
       "      <td>3</td>\n",
       "      <td>2</td>\n",
       "      <td>2</td>\n",
       "      <td>yes</td>\n",
       "      <td>no</td>\n",
       "      <td>yes</td>\n",
       "      <td>no</td>\n",
       "      <td>no</td>\n",
       "      <td>2</td>\n",
       "      <td>yes</td>\n",
       "      <td>semi-furnished</td>\n",
       "    </tr>\n",
       "    <tr>\n",
       "      <th>3</th>\n",
       "      <td>12215000</td>\n",
       "      <td>7500</td>\n",
       "      <td>4</td>\n",
       "      <td>2</td>\n",
       "      <td>2</td>\n",
       "      <td>yes</td>\n",
       "      <td>no</td>\n",
       "      <td>yes</td>\n",
       "      <td>no</td>\n",
       "      <td>yes</td>\n",
       "      <td>3</td>\n",
       "      <td>yes</td>\n",
       "      <td>furnished</td>\n",
       "    </tr>\n",
       "    <tr>\n",
       "      <th>4</th>\n",
       "      <td>11410000</td>\n",
       "      <td>7420</td>\n",
       "      <td>4</td>\n",
       "      <td>1</td>\n",
       "      <td>2</td>\n",
       "      <td>yes</td>\n",
       "      <td>yes</td>\n",
       "      <td>yes</td>\n",
       "      <td>no</td>\n",
       "      <td>yes</td>\n",
       "      <td>2</td>\n",
       "      <td>no</td>\n",
       "      <td>furnished</td>\n",
       "    </tr>\n",
       "  </tbody>\n",
       "</table>\n",
       "</div>"
      ],
      "text/plain": [
       "      price  area  bedrooms  bathrooms  stories mainroad guestroom basement  \\\n",
       "0  13300000  7420         4          2        3      yes        no       no   \n",
       "1  12250000  8960         4          4        4      yes        no       no   \n",
       "2  12250000  9960         3          2        2      yes        no      yes   \n",
       "3  12215000  7500         4          2        2      yes        no      yes   \n",
       "4  11410000  7420         4          1        2      yes       yes      yes   \n",
       "\n",
       "  hotwaterheating airconditioning  parking prefarea furnishingstatus  \n",
       "0              no             yes        2      yes        furnished  \n",
       "1              no             yes        3       no        furnished  \n",
       "2              no              no        2      yes   semi-furnished  \n",
       "3              no             yes        3      yes        furnished  \n",
       "4              no             yes        2       no        furnished  "
      ]
     },
     "execution_count": 6,
     "metadata": {},
     "output_type": "execute_result"
    }
   ],
   "source": [
    "data_Frame.head()"
   ]
  },
  {
   "cell_type": "code",
   "execution_count": 9,
   "id": "911f25a6-9e24-4ff2-90bf-0f2967e37083",
   "metadata": {},
   "outputs": [
    {
     "data": {
      "text/plain": [
       "2597867440"
      ]
     },
     "execution_count": 9,
     "metadata": {},
     "output_type": "execute_result"
    }
   ],
   "source": [
    "data_Frame['price'].sum()"
   ]
  },
  {
   "cell_type": "code",
   "execution_count": 11,
   "id": "bf74aadf-7ae5-459c-9739-63456f4d9ee9",
   "metadata": {},
   "outputs": [],
   "source": [
    "import statistics"
   ]
  },
  {
   "cell_type": "code",
   "execution_count": 12,
   "id": "89f599a2-ddf4-493f-8e3c-4a9554e56d93",
   "metadata": {},
   "outputs": [],
   "source": [
    "mean_price_value = statistics.mean(data_Frame['price'])"
   ]
  },
  {
   "cell_type": "code",
   "execution_count": 13,
   "id": "6c93ba0f-2f54-4548-84f6-4a902d1ef768",
   "metadata": {},
   "outputs": [
    {
     "data": {
      "text/plain": [
       "4766729.247706422"
      ]
     },
     "execution_count": 13,
     "metadata": {},
     "output_type": "execute_result"
    }
   ],
   "source": [
    "mean_price_value"
   ]
  },
  {
   "cell_type": "code",
   "execution_count": 16,
   "id": "2a685a0a-3eba-4d35-acc9-14678643364d",
   "metadata": {},
   "outputs": [],
   "source": [
    "median_price_value = statistics.median(data_Frame['price'])"
   ]
  },
  {
   "cell_type": "code",
   "execution_count": 17,
   "id": "4e5f21fb-bb55-44b3-811a-4a879099b2a7",
   "metadata": {},
   "outputs": [
    {
     "data": {
      "text/plain": [
       "4340000"
      ]
     },
     "execution_count": 17,
     "metadata": {},
     "output_type": "execute_result"
    }
   ],
   "source": [
    "median_price_value"
   ]
  },
  {
   "cell_type": "code",
   "execution_count": 18,
   "id": "177c5743-381f-4b19-beb0-f32e7fb02f1f",
   "metadata": {},
   "outputs": [],
   "source": [
    "mode_price_value = statistics.mode(data_Frame['price'])"
   ]
  },
  {
   "cell_type": "code",
   "execution_count": 19,
   "id": "cbf656ec-e10f-4e75-892f-fe598932ab02",
   "metadata": {},
   "outputs": [
    {
     "data": {
      "text/plain": [
       "4200000"
      ]
     },
     "execution_count": 19,
     "metadata": {},
     "output_type": "execute_result"
    }
   ],
   "source": [
    "mode_price_value"
   ]
  },
  {
   "cell_type": "code",
   "execution_count": 20,
   "id": "a1a86a79-3039-49ae-a484-bb0b8e32e0ee",
   "metadata": {},
   "outputs": [],
   "source": [
    "from scipy.stats import skew"
   ]
  },
  {
   "cell_type": "code",
   "execution_count": 22,
   "id": "8bb4c92b-7754-4dde-aa94-b0a11fb589c3",
   "metadata": {},
   "outputs": [
    {
     "data": {
      "text/plain": [
       "1.2088998457878217"
      ]
     },
     "execution_count": 22,
     "metadata": {},
     "output_type": "execute_result"
    }
   ],
   "source": [
    "# Calculate-Skew-ness.\n",
    "skew(data_Frame['price'])"
   ]
  },
  {
   "cell_type": "code",
   "execution_count": 23,
   "id": "7e34f5ba-169b-4359-883e-58689c7e0629",
   "metadata": {},
   "outputs": [
    {
     "name": "stdout",
     "output_type": "stream",
     "text": [
      "Calculate Skewness 1.2088998457878217\n"
     ]
    }
   ],
   "source": [
    "print(f\"Calculate Skewness {skew(data_Frame['price'])}\")"
   ]
  },
  {
   "cell_type": "code",
   "execution_count": 25,
   "id": "071ce9ad-beae-45ec-b9e5-904c05bdb697",
   "metadata": {},
   "outputs": [
    {
     "data": {
      "text/plain": [
       "'\\n>>Mean is calculated using statistics.mean().\\n>>Median is calculated using statistics.median().\\n>>Mode is calculated using statistics.mode().\\n>>Skewness is calculated using scipy.stats.skew().\\n'"
      ]
     },
     "execution_count": 25,
     "metadata": {},
     "output_type": "execute_result"
    }
   ],
   "source": [
    "\"\"\"\n",
    ">>Mean is calculated using statistics.mean().\n",
    ">>Median is calculated using statistics.median().\n",
    ">>Mode is calculated using statistics.mode().\n",
    ">>Skewness is calculated using scipy.stats.skew().\n",
    "\"\"\""
   ]
  },
  {
   "cell_type": "code",
   "execution_count": 28,
   "id": "ed08e056-0099-4430-a867-41b17099a9ad",
   "metadata": {},
   "outputs": [
    {
     "data": {
      "text/plain": [
       "'\\n1.Variance.\\n2.Standard-Deviation.\\n3.Coefficient-Variation.\\n'"
      ]
     },
     "execution_count": 28,
     "metadata": {},
     "output_type": "execute_result"
    }
   ],
   "source": [
    "\"\"\"\n",
    "1.Variance.\n",
    "2.Standard-Deviation.\n",
    "3.Coefficient-Variation.\n",
    "\"\"\""
   ]
  },
  {
   "cell_type": "code",
   "execution_count": 26,
   "id": "3dacddc2-8b73-4efc-855f-a5722eacbe96",
   "metadata": {},
   "outputs": [],
   "source": [
    "variance_price_value = statistics.variance(data_Frame['price'])"
   ]
  },
  {
   "cell_type": "code",
   "execution_count": 29,
   "id": "0aabd3f7-dc98-48e0-8312-b9632b1e15de",
   "metadata": {},
   "outputs": [
    {
     "data": {
      "text/plain": [
       "3498544355820.5728"
      ]
     },
     "execution_count": 29,
     "metadata": {},
     "output_type": "execute_result"
    }
   ],
   "source": [
    "variance_price_value"
   ]
  },
  {
   "cell_type": "code",
   "execution_count": 31,
   "id": "be5c969c-14e5-432e-a824-9d2c866b9b6d",
   "metadata": {},
   "outputs": [],
   "source": [
    "Standard_Deviation_price_value = statistics.stdev(data_Frame['price'])"
   ]
  },
  {
   "cell_type": "code",
   "execution_count": 32,
   "id": "81d0df4f-b5c9-49f9-921f-75b26afcf7cb",
   "metadata": {},
   "outputs": [
    {
     "data": {
      "text/plain": [
       "1870439.6156573922"
      ]
     },
     "execution_count": 32,
     "metadata": {},
     "output_type": "execute_result"
    }
   ],
   "source": [
    "Standard_Deviation_price_value"
   ]
  },
  {
   "cell_type": "code",
   "execution_count": 34,
   "id": "4cfe5732-e330-4bd6-8333-cda1eae20536",
   "metadata": {},
   "outputs": [
    {
     "name": "stdout",
     "output_type": "stream",
     "text": [
      "The Coefficient-Variation of the Price = 39.23947676611547\n"
     ]
    }
   ],
   "source": [
    "# Calculate The mean.\n",
    "price_mean_value = statistics.mean(data_Frame['price'])\n",
    "# Calculate The standard deviation.\n",
    "price_std_dev_value = statistics.stdev(data_Frame['price'])\n",
    "# Calculate coefficient of variation\n",
    "cv_value = (price_std_dev_value / price_mean_value) * 100  # Expressed as a percentage.\n",
    "print(f\"The Coefficient-Variation of the Price = {cv_value}\")"
   ]
  },
  {
   "cell_type": "code",
   "execution_count": 67,
   "id": "6cee3ba9-2380-4ac0-a142-cb3cd1b06e00",
   "metadata": {},
   "outputs": [
    {
     "data": {
      "text/html": [
       "<div>\n",
       "<style scoped>\n",
       "    .dataframe tbody tr th:only-of-type {\n",
       "        vertical-align: middle;\n",
       "    }\n",
       "\n",
       "    .dataframe tbody tr th {\n",
       "        vertical-align: top;\n",
       "    }\n",
       "\n",
       "    .dataframe thead th {\n",
       "        text-align: right;\n",
       "    }\n",
       "</style>\n",
       "<table border=\"1\" class=\"dataframe\">\n",
       "  <thead>\n",
       "    <tr style=\"text-align: right;\">\n",
       "      <th></th>\n",
       "      <th>index</th>\n",
       "      <th>price</th>\n",
       "      <th>area</th>\n",
       "    </tr>\n",
       "  </thead>\n",
       "  <tbody>\n",
       "    <tr>\n",
       "      <th>0</th>\n",
       "      <td>7</td>\n",
       "      <td>10150000</td>\n",
       "      <td>16200</td>\n",
       "    </tr>\n",
       "    <tr>\n",
       "      <th>1</th>\n",
       "      <td>125</td>\n",
       "      <td>5943000</td>\n",
       "      <td>15600</td>\n",
       "    </tr>\n",
       "    <tr>\n",
       "      <th>2</th>\n",
       "      <td>66</td>\n",
       "      <td>6930000</td>\n",
       "      <td>13200</td>\n",
       "    </tr>\n",
       "    <tr>\n",
       "      <th>3</th>\n",
       "      <td>10</td>\n",
       "      <td>9800000</td>\n",
       "      <td>13200</td>\n",
       "    </tr>\n",
       "    <tr>\n",
       "      <th>4</th>\n",
       "      <td>403</td>\n",
       "      <td>3500000</td>\n",
       "      <td>12944</td>\n",
       "    </tr>\n",
       "  </tbody>\n",
       "</table>\n",
       "</div>"
      ],
      "text/plain": [
       "   index     price   area\n",
       "0      7  10150000  16200\n",
       "1    125   5943000  15600\n",
       "2     66   6930000  13200\n",
       "3     10   9800000  13200\n",
       "4    403   3500000  12944"
      ]
     },
     "execution_count": 67,
     "metadata": {},
     "output_type": "execute_result"
    }
   ],
   "source": [
    "sorted_df = data_Frame.sort_values(by='area', ascending=False)\n",
    "New_sorted_df=sorted_df[:5][['price','area']].reset_index()\n",
    "New_sorted_df"
   ]
  },
  {
   "cell_type": "code",
   "execution_count": 70,
   "id": "8c0f3f0d-109c-4117-8fea-85225a9a1f96",
   "metadata": {},
   "outputs": [
    {
     "data": {
      "text/html": [
       "<div>\n",
       "<style scoped>\n",
       "    .dataframe tbody tr th:only-of-type {\n",
       "        vertical-align: middle;\n",
       "    }\n",
       "\n",
       "    .dataframe tbody tr th {\n",
       "        vertical-align: top;\n",
       "    }\n",
       "\n",
       "    .dataframe thead th {\n",
       "        text-align: right;\n",
       "    }\n",
       "</style>\n",
       "<table border=\"1\" class=\"dataframe\">\n",
       "  <thead>\n",
       "    <tr style=\"text-align: right;\">\n",
       "      <th></th>\n",
       "      <th>index</th>\n",
       "      <th>area</th>\n",
       "      <th>price</th>\n",
       "    </tr>\n",
       "  </thead>\n",
       "  <tbody>\n",
       "    <tr>\n",
       "      <th>0</th>\n",
       "      <td>7</td>\n",
       "      <td>10150000</td>\n",
       "      <td>16200</td>\n",
       "    </tr>\n",
       "    <tr>\n",
       "      <th>1</th>\n",
       "      <td>125</td>\n",
       "      <td>5943000</td>\n",
       "      <td>15600</td>\n",
       "    </tr>\n",
       "    <tr>\n",
       "      <th>2</th>\n",
       "      <td>66</td>\n",
       "      <td>6930000</td>\n",
       "      <td>13200</td>\n",
       "    </tr>\n",
       "    <tr>\n",
       "      <th>3</th>\n",
       "      <td>10</td>\n",
       "      <td>9800000</td>\n",
       "      <td>13200</td>\n",
       "    </tr>\n",
       "    <tr>\n",
       "      <th>4</th>\n",
       "      <td>403</td>\n",
       "      <td>3500000</td>\n",
       "      <td>12944</td>\n",
       "    </tr>\n",
       "  </tbody>\n",
       "</table>\n",
       "</div>"
      ],
      "text/plain": [
       "   index      area  price\n",
       "0      7  10150000  16200\n",
       "1    125   5943000  15600\n",
       "2     66   6930000  13200\n",
       "3     10   9800000  13200\n",
       "4    403   3500000  12944"
      ]
     },
     "execution_count": 70,
     "metadata": {},
     "output_type": "execute_result"
    }
   ],
   "source": [
    "New_sorted_df.columns = ['index','area', 'price']\n",
    "New_sorted_df"
   ]
  },
  {
   "cell_type": "code",
   "execution_count": 76,
   "id": "9a79084a-8949-48ed-b770-f6e857f3d37c",
   "metadata": {},
   "outputs": [
    {
     "name": "stdout",
     "output_type": "stream",
     "text": [
      "Calculate Co_Variance_Price 1612024400.0\n"
     ]
    }
   ],
   "source": [
    "import numpy as np\n",
    "# Calculate Co-Variance.\n",
    "print('Calculate Co_Variance_Price',np.cov(New_sorted_df['area'], New_sorted_df['price'])[0,1])"
   ]
  },
  {
   "cell_type": "code",
   "execution_count": 78,
   "id": "75b3b780-f7c5-4180-b901-0b3d8db0f5fe",
   "metadata": {},
   "outputs": [
    {
     "data": {
      "text/html": [
       "<div>\n",
       "<style scoped>\n",
       "    .dataframe tbody tr th:only-of-type {\n",
       "        vertical-align: middle;\n",
       "    }\n",
       "\n",
       "    .dataframe tbody tr th {\n",
       "        vertical-align: top;\n",
       "    }\n",
       "\n",
       "    .dataframe thead th {\n",
       "        text-align: right;\n",
       "    }\n",
       "</style>\n",
       "<table border=\"1\" class=\"dataframe\">\n",
       "  <thead>\n",
       "    <tr style=\"text-align: right;\">\n",
       "      <th></th>\n",
       "      <th>price</th>\n",
       "      <th>area</th>\n",
       "      <th>bedrooms</th>\n",
       "      <th>bathrooms</th>\n",
       "      <th>stories</th>\n",
       "      <th>mainroad</th>\n",
       "      <th>guestroom</th>\n",
       "      <th>basement</th>\n",
       "      <th>hotwaterheating</th>\n",
       "      <th>airconditioning</th>\n",
       "      <th>parking</th>\n",
       "      <th>prefarea</th>\n",
       "      <th>furnishingstatus</th>\n",
       "    </tr>\n",
       "  </thead>\n",
       "  <tbody>\n",
       "    <tr>\n",
       "      <th>0</th>\n",
       "      <td>13300000</td>\n",
       "      <td>7420</td>\n",
       "      <td>4</td>\n",
       "      <td>2</td>\n",
       "      <td>3</td>\n",
       "      <td>yes</td>\n",
       "      <td>no</td>\n",
       "      <td>no</td>\n",
       "      <td>no</td>\n",
       "      <td>yes</td>\n",
       "      <td>2</td>\n",
       "      <td>yes</td>\n",
       "      <td>furnished</td>\n",
       "    </tr>\n",
       "    <tr>\n",
       "      <th>1</th>\n",
       "      <td>12250000</td>\n",
       "      <td>8960</td>\n",
       "      <td>4</td>\n",
       "      <td>4</td>\n",
       "      <td>4</td>\n",
       "      <td>yes</td>\n",
       "      <td>no</td>\n",
       "      <td>no</td>\n",
       "      <td>no</td>\n",
       "      <td>yes</td>\n",
       "      <td>3</td>\n",
       "      <td>no</td>\n",
       "      <td>furnished</td>\n",
       "    </tr>\n",
       "    <tr>\n",
       "      <th>2</th>\n",
       "      <td>12250000</td>\n",
       "      <td>9960</td>\n",
       "      <td>3</td>\n",
       "      <td>2</td>\n",
       "      <td>2</td>\n",
       "      <td>yes</td>\n",
       "      <td>no</td>\n",
       "      <td>yes</td>\n",
       "      <td>no</td>\n",
       "      <td>no</td>\n",
       "      <td>2</td>\n",
       "      <td>yes</td>\n",
       "      <td>semi-furnished</td>\n",
       "    </tr>\n",
       "  </tbody>\n",
       "</table>\n",
       "</div>"
      ],
      "text/plain": [
       "      price  area  bedrooms  bathrooms  stories mainroad guestroom basement  \\\n",
       "0  13300000  7420         4          2        3      yes        no       no   \n",
       "1  12250000  8960         4          4        4      yes        no       no   \n",
       "2  12250000  9960         3          2        2      yes        no      yes   \n",
       "\n",
       "  hotwaterheating airconditioning  parking prefarea furnishingstatus  \n",
       "0              no             yes        2      yes        furnished  \n",
       "1              no             yes        3       no        furnished  \n",
       "2              no              no        2      yes   semi-furnished  "
      ]
     },
     "execution_count": 78,
     "metadata": {},
     "output_type": "execute_result"
    }
   ],
   "source": [
    "data_Frame.head(3)"
   ]
  },
  {
   "cell_type": "code",
   "execution_count": 80,
   "id": "d28434a0-b46e-4105-aa36-577bb6cbedca",
   "metadata": {},
   "outputs": [
    {
     "data": {
      "text/plain": [
       "'Cor_relation'"
      ]
     },
     "execution_count": 80,
     "metadata": {},
     "output_type": "execute_result"
    }
   ],
   "source": [
    "\"Cor_relation\""
   ]
  },
  {
   "cell_type": "code",
   "execution_count": 90,
   "id": "e834bd31-3246-4f57-9924-3bcae8579cc9",
   "metadata": {},
   "outputs": [
    {
     "name": "stdout",
     "output_type": "stream",
     "text": [
      "Calculate The Correlation\n"
     ]
    },
    {
     "data": {
      "text/html": [
       "<div>\n",
       "<style scoped>\n",
       "    .dataframe tbody tr th:only-of-type {\n",
       "        vertical-align: middle;\n",
       "    }\n",
       "\n",
       "    .dataframe tbody tr th {\n",
       "        vertical-align: top;\n",
       "    }\n",
       "\n",
       "    .dataframe thead th {\n",
       "        text-align: right;\n",
       "    }\n",
       "</style>\n",
       "<table border=\"1\" class=\"dataframe\">\n",
       "  <thead>\n",
       "    <tr style=\"text-align: right;\">\n",
       "      <th></th>\n",
       "      <th>index</th>\n",
       "      <th>area</th>\n",
       "      <th>price</th>\n",
       "    </tr>\n",
       "  </thead>\n",
       "  <tbody>\n",
       "    <tr>\n",
       "      <th>index</th>\n",
       "      <td>1.000000</td>\n",
       "      <td>-0.910300</td>\n",
       "      <td>-0.405051</td>\n",
       "    </tr>\n",
       "    <tr>\n",
       "      <th>area</th>\n",
       "      <td>-0.910300</td>\n",
       "      <td>1.000000</td>\n",
       "      <td>0.376393</td>\n",
       "    </tr>\n",
       "    <tr>\n",
       "      <th>price</th>\n",
       "      <td>-0.405051</td>\n",
       "      <td>0.376393</td>\n",
       "      <td>1.000000</td>\n",
       "    </tr>\n",
       "  </tbody>\n",
       "</table>\n",
       "</div>"
      ],
      "text/plain": [
       "          index      area     price\n",
       "index  1.000000 -0.910300 -0.405051\n",
       "area  -0.910300  1.000000  0.376393\n",
       "price -0.405051  0.376393  1.000000"
      ]
     },
     "execution_count": 90,
     "metadata": {},
     "output_type": "execute_result"
    }
   ],
   "source": [
    "print(\"Calculate The Correlation\")\n",
    "New_sorted_df.corr()"
   ]
  },
  {
   "cell_type": "code",
   "execution_count": 111,
   "id": "f19492fd-3b11-4442-8388-00b38cf34066",
   "metadata": {},
   "outputs": [
    {
     "data": {
      "text/plain": [
       "bedrooms\n",
       "1       5425000\n",
       "2     493955000\n",
       "3    1486379440\n",
       "4     544327000\n",
       "5      58198000\n",
       "6       9583000\n",
       "Name: price, dtype: int64"
      ]
     },
     "execution_count": 111,
     "metadata": {},
     "output_type": "execute_result"
    }
   ],
   "source": [
    "data_Frame.groupby('bedrooms')['price'].sum()"
   ]
  },
  {
   "cell_type": "code",
   "execution_count": 92,
   "id": "fb8c1fb4-ffbc-4d22-b25a-300c70673269",
   "metadata": {},
   "outputs": [
    {
     "data": {
      "text/plain": [
       "'Rolling a Die in Python'"
      ]
     },
     "execution_count": 92,
     "metadata": {},
     "output_type": "execute_result"
    }
   ],
   "source": [
    "\"Rolling a Die in Python\""
   ]
  },
  {
   "cell_type": "code",
   "execution_count": 95,
   "id": "8d34cab1-e95b-4d54-9e79-14883e8e3c54",
   "metadata": {},
   "outputs": [
    {
     "name": "stdout",
     "output_type": "stream",
     "text": [
      "The dice rolled: [5, 1, 1, 1, 2, 3, 3, 6, 1, 4]\n"
     ]
    }
   ],
   "source": [
    "import random\n",
    "\n",
    "def roll_dice(num_dice):\n",
    "    results = []\n",
    "    for _ in range(num_dice):\n",
    "        results.append(random.randint(1, 6))\n",
    "    return results\n",
    "\n",
    "# Simulate rolling 3 Dice;\n",
    "num_dice = 10\n",
    "rolls = roll_dice(num_dice)\n",
    "print(f\"The dice rolled: {rolls}\")"
   ]
  },
  {
   "cell_type": "code",
   "execution_count": 97,
   "id": "8ba5a8d2-c1fd-4c00-a707-5ac1aa259e44",
   "metadata": {},
   "outputs": [
    {
     "name": "stdout",
     "output_type": "stream",
     "text": [
      "(6, 5)\n"
     ]
    }
   ],
   "source": [
    "def roll_two_dice():\n",
    "    die1 = random.randint(1, 6)\n",
    "    die2 = random.randint(1, 6)\n",
    "    return die1, die2\n",
    "print(roll_two_dice())    "
   ]
  },
  {
   "cell_type": "code",
   "execution_count": 98,
   "id": "36d2ec0a-e4d9-45b9-b2a3-7d7b905debf6",
   "metadata": {},
   "outputs": [
    {
     "name": "stdout",
     "output_type": "stream",
     "text": [
      "Standarization-with-python\n"
     ]
    }
   ],
   "source": [
    "print(\"Standarization-with-python\")"
   ]
  },
  {
   "cell_type": "code",
   "execution_count": 99,
   "id": "24bb8d46-2380-4ef0-b17e-6a3be1d03b25",
   "metadata": {},
   "outputs": [
    {
     "name": "stdout",
     "output_type": "stream",
     "text": [
      "Using-scikit-learn for Standardization\n"
     ]
    }
   ],
   "source": [
    "print(\"Using-scikit-learn for Standardization\")"
   ]
  },
  {
   "cell_type": "code",
   "execution_count": 109,
   "id": "d87b03da-4d01-4139-831e-4f916e25761d",
   "metadata": {},
   "outputs": [],
   "source": [
    "from sklearn.preprocessing import StandardScaler\n",
    "import numpy as np"
   ]
  },
  {
   "cell_type": "code",
   "execution_count": 108,
   "id": "074c88ab-a75b-4d52-b6ba-13cf35088d14",
   "metadata": {},
   "outputs": [
    {
     "data": {
      "text/html": [
       "<style>#sk-container-id-2 {color: black;background-color: white;}#sk-container-id-2 pre{padding: 0;}#sk-container-id-2 div.sk-toggleable {background-color: white;}#sk-container-id-2 label.sk-toggleable__label {cursor: pointer;display: block;width: 100%;margin-bottom: 0;padding: 0.3em;box-sizing: border-box;text-align: center;}#sk-container-id-2 label.sk-toggleable__label-arrow:before {content: \"▸\";float: left;margin-right: 0.25em;color: #696969;}#sk-container-id-2 label.sk-toggleable__label-arrow:hover:before {color: black;}#sk-container-id-2 div.sk-estimator:hover label.sk-toggleable__label-arrow:before {color: black;}#sk-container-id-2 div.sk-toggleable__content {max-height: 0;max-width: 0;overflow: hidden;text-align: left;background-color: #f0f8ff;}#sk-container-id-2 div.sk-toggleable__content pre {margin: 0.2em;color: black;border-radius: 0.25em;background-color: #f0f8ff;}#sk-container-id-2 input.sk-toggleable__control:checked~div.sk-toggleable__content {max-height: 200px;max-width: 100%;overflow: auto;}#sk-container-id-2 input.sk-toggleable__control:checked~label.sk-toggleable__label-arrow:before {content: \"▾\";}#sk-container-id-2 div.sk-estimator input.sk-toggleable__control:checked~label.sk-toggleable__label {background-color: #d4ebff;}#sk-container-id-2 div.sk-label input.sk-toggleable__control:checked~label.sk-toggleable__label {background-color: #d4ebff;}#sk-container-id-2 input.sk-hidden--visually {border: 0;clip: rect(1px 1px 1px 1px);clip: rect(1px, 1px, 1px, 1px);height: 1px;margin: -1px;overflow: hidden;padding: 0;position: absolute;width: 1px;}#sk-container-id-2 div.sk-estimator {font-family: monospace;background-color: #f0f8ff;border: 1px dotted black;border-radius: 0.25em;box-sizing: border-box;margin-bottom: 0.5em;}#sk-container-id-2 div.sk-estimator:hover {background-color: #d4ebff;}#sk-container-id-2 div.sk-parallel-item::after {content: \"\";width: 100%;border-bottom: 1px solid gray;flex-grow: 1;}#sk-container-id-2 div.sk-label:hover label.sk-toggleable__label {background-color: #d4ebff;}#sk-container-id-2 div.sk-serial::before {content: \"\";position: absolute;border-left: 1px solid gray;box-sizing: border-box;top: 0;bottom: 0;left: 50%;z-index: 0;}#sk-container-id-2 div.sk-serial {display: flex;flex-direction: column;align-items: center;background-color: white;padding-right: 0.2em;padding-left: 0.2em;position: relative;}#sk-container-id-2 div.sk-item {position: relative;z-index: 1;}#sk-container-id-2 div.sk-parallel {display: flex;align-items: stretch;justify-content: center;background-color: white;position: relative;}#sk-container-id-2 div.sk-item::before, #sk-container-id-2 div.sk-parallel-item::before {content: \"\";position: absolute;border-left: 1px solid gray;box-sizing: border-box;top: 0;bottom: 0;left: 50%;z-index: -1;}#sk-container-id-2 div.sk-parallel-item {display: flex;flex-direction: column;z-index: 1;position: relative;background-color: white;}#sk-container-id-2 div.sk-parallel-item:first-child::after {align-self: flex-end;width: 50%;}#sk-container-id-2 div.sk-parallel-item:last-child::after {align-self: flex-start;width: 50%;}#sk-container-id-2 div.sk-parallel-item:only-child::after {width: 0;}#sk-container-id-2 div.sk-dashed-wrapped {border: 1px dashed gray;margin: 0 0.4em 0.5em 0.4em;box-sizing: border-box;padding-bottom: 0.4em;background-color: white;}#sk-container-id-2 div.sk-label label {font-family: monospace;font-weight: bold;display: inline-block;line-height: 1.2em;}#sk-container-id-2 div.sk-label-container {text-align: center;}#sk-container-id-2 div.sk-container {/* jupyter's `normalize.less` sets `[hidden] { display: none; }` but bootstrap.min.css set `[hidden] { display: none !important; }` so we also need the `!important` here to be able to override the default hidden behavior on the sphinx rendered scikit-learn.org. See: https://github.com/scikit-learn/scikit-learn/issues/21755 */display: inline-block !important;position: relative;}#sk-container-id-2 div.sk-text-repr-fallback {display: none;}</style><div id=\"sk-container-id-2\" class=\"sk-top-container\"><div class=\"sk-text-repr-fallback\"><pre>StandardScaler()</pre><b>In a Jupyter environment, please rerun this cell to show the HTML representation or trust the notebook. <br />On GitHub, the HTML representation is unable to render, please try loading this page with nbviewer.org.</b></div><div class=\"sk-container\" hidden><div class=\"sk-item\"><div class=\"sk-estimator sk-toggleable\"><input class=\"sk-toggleable__control sk-hidden--visually\" id=\"sk-estimator-id-2\" type=\"checkbox\" checked><label for=\"sk-estimator-id-2\" class=\"sk-toggleable__label sk-toggleable__label-arrow\">StandardScaler</label><div class=\"sk-toggleable__content\"><pre>StandardScaler()</pre></div></div></div></div></div>"
      ],
      "text/plain": [
       "StandardScaler()"
      ]
     },
     "execution_count": 108,
     "metadata": {},
     "output_type": "execute_result"
    }
   ],
   "source": [
    "# Initialize StandardScaler\n",
    "scaler = StandardScaler()\n",
    "# Fit the scaler to the data\n",
    "scaler.fit(New_sorted_df)"
   ]
  },
  {
   "cell_type": "code",
   "execution_count": 106,
   "id": "d14da1a9-4468-4eaa-828f-d1c8a6e56bff",
   "metadata": {},
   "outputs": [],
   "source": [
    "# Transform the data\n",
    "standardized_data = scaler.transform(New_sorted_df)"
   ]
  },
  {
   "cell_type": "code",
   "execution_count": 107,
   "id": "c4f33276-f58c-4f1b-bfd1-4b42e68afe0d",
   "metadata": {},
   "outputs": [
    {
     "data": {
      "text/plain": [
       "array([[-0.78429145,  1.16285186,  1.42755234],\n",
       "       [ 0.01906264, -0.53262113,  0.99302951],\n",
       "       [-0.3826144 , -0.13484793, -0.74506181],\n",
       "       [-0.76386719,  1.02179753, -0.74506181],\n",
       "       [ 1.9117104 , -1.51718032, -0.93045822]])"
      ]
     },
     "execution_count": 107,
     "metadata": {},
     "output_type": "execute_result"
    }
   ],
   "source": [
    "standardized_data"
   ]
  },
  {
   "cell_type": "code",
   "execution_count": 114,
   "id": "89ddec59-43f0-46af-b9c1-3ea301c8563b",
   "metadata": {},
   "outputs": [
    {
     "data": {
      "text/html": [
       "<div>\n",
       "<style scoped>\n",
       "    .dataframe tbody tr th:only-of-type {\n",
       "        vertical-align: middle;\n",
       "    }\n",
       "\n",
       "    .dataframe tbody tr th {\n",
       "        vertical-align: top;\n",
       "    }\n",
       "\n",
       "    .dataframe thead th {\n",
       "        text-align: right;\n",
       "    }\n",
       "</style>\n",
       "<table border=\"1\" class=\"dataframe\">\n",
       "  <thead>\n",
       "    <tr style=\"text-align: right;\">\n",
       "      <th></th>\n",
       "      <th>index</th>\n",
       "      <th>area</th>\n",
       "      <th>price</th>\n",
       "    </tr>\n",
       "  </thead>\n",
       "  <tbody>\n",
       "    <tr>\n",
       "      <th>0</th>\n",
       "      <td>7</td>\n",
       "      <td>10150000</td>\n",
       "      <td>16200</td>\n",
       "    </tr>\n",
       "    <tr>\n",
       "      <th>1</th>\n",
       "      <td>125</td>\n",
       "      <td>5943000</td>\n",
       "      <td>15600</td>\n",
       "    </tr>\n",
       "    <tr>\n",
       "      <th>2</th>\n",
       "      <td>66</td>\n",
       "      <td>6930000</td>\n",
       "      <td>13200</td>\n",
       "    </tr>\n",
       "    <tr>\n",
       "      <th>3</th>\n",
       "      <td>10</td>\n",
       "      <td>9800000</td>\n",
       "      <td>13200</td>\n",
       "    </tr>\n",
       "    <tr>\n",
       "      <th>4</th>\n",
       "      <td>403</td>\n",
       "      <td>3500000</td>\n",
       "      <td>12944</td>\n",
       "    </tr>\n",
       "  </tbody>\n",
       "</table>\n",
       "</div>"
      ],
      "text/plain": [
       "   index      area  price\n",
       "0      7  10150000  16200\n",
       "1    125   5943000  15600\n",
       "2     66   6930000  13200\n",
       "3     10   9800000  13200\n",
       "4    403   3500000  12944"
      ]
     },
     "execution_count": 114,
     "metadata": {},
     "output_type": "execute_result"
    }
   ],
   "source": [
    "New_sorted_df"
   ]
  },
  {
   "cell_type": "code",
   "execution_count": 115,
   "id": "e3813f33-2ce5-4d98-b435-af11e5550d41",
   "metadata": {},
   "outputs": [
    {
     "data": {
      "text/plain": [
       "'Central Limit Theorem'"
      ]
     },
     "execution_count": 115,
     "metadata": {},
     "output_type": "execute_result"
    }
   ],
   "source": [
    "\"Central Limit Theorem\""
   ]
  },
  {
   "cell_type": "code",
   "execution_count": 116,
   "id": "4cbc0b9e-0fc3-45d5-9534-34d213bf2718",
   "metadata": {},
   "outputs": [
    {
     "name": "stdout",
     "output_type": "stream",
     "text": [
      "Central Limit Theorem Simulation\n"
     ]
    }
   ],
   "source": [
    "print(\"Central Limit Theorem Simulation\")"
   ]
  },
  {
   "cell_type": "code",
   "execution_count": 118,
   "id": "f94d43bd-7ab4-4e53-b9bc-3076aff4dc38",
   "metadata": {},
   "outputs": [
    {
     "data": {
      "text/plain": [
       "\"import numpy as np\\nimport matplotlib.pyplot as plt\\n\\n# Parameters for the population distribution (Exponential distribution)\\npopulation_mean = 10  # Mean of the population\\npopulation_size = 10000  # Size of the population\\n\\n# Generate population data (Exponential distribution as an example)\\npopulation_data = np.random.exponential(scale=population_mean, size=population_size)\\n\\n# Number of samples to take and their sizes\\nnum_samples = 1000\\nsample_sizes = [10, 50, 100]\\n\\n# Initialize a figure for plotting\\nplt.figure(figsize=(14, 8))\\n\\n# Plot the population distribution\\nplt.subplot(2, 2, 1)\\nplt.hist(population_data, bins=50, density=True, alpha=0.75, color='b')\\nplt.title('Population Distribution')\\nplt.xlabel('Values')\\nplt.ylabel('Density')\\n\\n# Plot the sampling distributions of sample means\\nfor i, n in enumerate(sample_sizes):\\n    sample_means = []\\n    for _ in range(num_samples):\\n        sample = np.random.choice(population_data, size=n, replace=False)\\n        sample_means.append(np.mean(sample))\\n    \\n    # Plotting the sampling distribution\\n    plt.subplot(2, 2, i+2)\\n    plt.hist(sample_means, bins=30, density=True, alpha=0.75, color='g')\\n    plt.title(f'Sampling Distribution (n={n})')\\n    plt.xlabel('Sample Means')\\n    plt.ylabel('Density')\\n\\nplt.tight_layout()\\nplt.show()\\n\""
      ]
     },
     "execution_count": 118,
     "metadata": {},
     "output_type": "execute_result"
    }
   ],
   "source": [
    "\"\"\"import numpy as np\n",
    "import matplotlib.pyplot as plt\n",
    "\n",
    "# Parameters for the population distribution (Exponential distribution)\n",
    "population_mean = 10  # Mean of the population\n",
    "population_size = 10000  # Size of the population\n",
    "\n",
    "# Generate population data (Exponential distribution as an example)\n",
    "population_data = np.random.exponential(scale=population_mean, size=population_size)\n",
    "\n",
    "# Number of samples to take and their sizes\n",
    "num_samples = 1000\n",
    "sample_sizes = [10, 50, 100]\n",
    "\n",
    "# Initialize a figure for plotting\n",
    "plt.figure(figsize=(14, 8))\n",
    "\n",
    "# Plot the population distribution\n",
    "plt.subplot(2, 2, 1)\n",
    "plt.hist(population_data, bins=50, density=True, alpha=0.75, color='b')\n",
    "plt.title('Population Distribution')\n",
    "plt.xlabel('Values')\n",
    "plt.ylabel('Density')\n",
    "\n",
    "# Plot the sampling distributions of sample means\n",
    "for i, n in enumerate(sample_sizes):\n",
    "    sample_means = []\n",
    "    for _ in range(num_samples):\n",
    "        sample = np.random.choice(population_data, size=n, replace=False)\n",
    "        sample_means.append(np.mean(sample))\n",
    "    \n",
    "    # Plotting the sampling distribution\n",
    "    plt.subplot(2, 2, i+2)\n",
    "    plt.hist(sample_means, bins=30, density=True, alpha=0.75, color='g')\n",
    "    plt.title(f'Sampling Distribution (n={n})')\n",
    "    plt.xlabel('Sample Means')\n",
    "    plt.ylabel('Density')\n",
    "\n",
    "plt.tight_layout()\n",
    "plt.show()\n",
    "\"\"\""
   ]
  },
  {
   "cell_type": "code",
   "execution_count": 119,
   "id": "7697b0ef-2998-43de-87e9-d9571346b9a4",
   "metadata": {},
   "outputs": [
    {
     "name": "stdout",
     "output_type": "stream",
     "text": [
      "Standard error with python\n"
     ]
    }
   ],
   "source": [
    "print(\"Standard error with python\")"
   ]
  },
  {
   "cell_type": "code",
   "execution_count": 121,
   "id": "622723f8-9215-42bb-8d6c-ed0d195dfc0e",
   "metadata": {},
   "outputs": [
    {
     "name": "stdout",
     "output_type": "stream",
     "text": [
      "1. Standard Error of the Mean (SEM)\n"
     ]
    }
   ],
   "source": [
    "print(\"1. Standard Error of the Mean (SEM)\")"
   ]
  },
  {
   "cell_type": "code",
   "execution_count": 122,
   "id": "038683ca-7447-41bb-b291-f5a91e350b67",
   "metadata": {},
   "outputs": [],
   "source": [
    "import numpy as np\n",
    "#>>Calculate Sample Mean And Sample Standard Deviation;\n",
    "sample_mean = np.mean(data_Frame['price'])\n",
    "sample_std = np.std(data_Frame['price'])\n",
    "#>>Calculate Standard Error of The Mean (SEM);\n",
    "n = len(data_Frame['price'])\n",
    "SEM = sample_std / np.sqrt(n)"
   ]
  },
  {
   "cell_type": "code",
   "execution_count": 123,
   "id": "ab77eb2d-e877-49fe-89ca-0ace3edbf70b",
   "metadata": {},
   "outputs": [
    {
     "name": "stdout",
     "output_type": "stream",
     "text": [
      "The Standard Error Equal =  80047.29116411887\n"
     ]
    }
   ],
   "source": [
    "print(\"The Standard Error Equal = \",SEM)"
   ]
  },
  {
   "cell_type": "code",
   "execution_count": null,
   "id": "049ac949-7cb7-4c46-9acb-c0aed02030d0",
   "metadata": {},
   "outputs": [],
   "source": []
  }
 ],
 "metadata": {
  "kernelspec": {
   "display_name": "Python 3 (ipykernel)",
   "language": "python",
   "name": "python3"
  },
  "language_info": {
   "codemirror_mode": {
    "name": "ipython",
    "version": 3
   },
   "file_extension": ".py",
   "mimetype": "text/x-python",
   "name": "python",
   "nbconvert_exporter": "python",
   "pygments_lexer": "ipython3",
   "version": "3.11.7"
  }
 },
 "nbformat": 4,
 "nbformat_minor": 5
}
